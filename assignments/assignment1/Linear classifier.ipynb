{
 "cells": [
  {
   "cell_type": "markdown",
   "metadata": {},
   "source": [
    "# Задание 1.2 - Линейный классификатор (Linear classifier)\n",
    "\n",
    "В этом задании мы реализуем другую модель машинного обучения - линейный классификатор. Линейный классификатор подбирает для каждого класса веса, на которые нужно умножить значение каждого признака и потом сложить вместе.\n",
    "Тот класс, у которого эта сумма больше, и является предсказанием модели.\n",
    "\n",
    "В этом задании вы:\n",
    "- потренируетесь считать градиенты различных многомерных функций\n",
    "- реализуете подсчет градиентов через линейную модель и функцию потерь softmax\n",
    "- реализуете процесс тренировки линейного классификатора\n",
    "- подберете параметры тренировки на практике\n",
    "\n",
    "На всякий случай, еще раз ссылка на туториал по numpy:  \n",
    "http://cs231n.github.io/python-numpy-tutorial/"
   ]
  },
  {
   "cell_type": "code",
   "execution_count": 1,
   "metadata": {},
   "outputs": [],
   "source": [
    "import numpy as np\n",
    "import matplotlib.pyplot as plt\n",
    "\n",
    "%matplotlib inline\n",
    "\n",
    "%load_ext autoreload\n",
    "%autoreload 2"
   ]
  },
  {
   "cell_type": "code",
   "execution_count": 2,
   "metadata": {},
   "outputs": [],
   "source": [
    "from dataset import load_svhn, random_split_train_val\n",
    "from gradient_check import check_gradient\n",
    "from metrics import multiclass_accuracy \n",
    "import linear_classifer"
   ]
  },
  {
   "cell_type": "markdown",
   "metadata": {},
   "source": [
    "# Как всегда, первым делом загружаем данные\n",
    "\n",
    "Мы будем использовать все тот же SVHN."
   ]
  },
  {
   "cell_type": "code",
   "execution_count": 3,
   "metadata": {},
   "outputs": [],
   "source": [
    "def prepare_for_linear_classifier(train_X, test_X):\n",
    "    train_flat = train_X.reshape(train_X.shape[0], -1).astype(np.float) / 255.0\n",
    "    test_flat = test_X.reshape(test_X.shape[0], -1).astype(np.float) / 255.0\n",
    "    \n",
    "    # Subtract mean\n",
    "    mean_image = np.mean(train_flat, axis = 0)\n",
    "    train_flat -= mean_image\n",
    "    test_flat -= mean_image\n",
    "    \n",
    "    # Add another channel with ones as a bias term\n",
    "    train_flat_with_ones = np.hstack([train_flat, np.ones((train_X.shape[0], 1))])\n",
    "    test_flat_with_ones = np.hstack([test_flat, np.ones((test_X.shape[0], 1))])    \n",
    "    return train_flat_with_ones, test_flat_with_ones\n",
    "    \n",
    "train_X, train_y, test_X, test_y = load_svhn(\"data\", max_train=10000, max_test=1000)    \n",
    "train_X, test_X = prepare_for_linear_classifier(train_X, test_X)\n",
    "# Split train into train and val\n",
    "train_X, train_y, val_X, val_y = random_split_train_val(train_X, train_y, num_val = 1000)"
   ]
  },
  {
   "cell_type": "markdown",
   "metadata": {},
   "source": [
    "# Играемся с градиентами!\n",
    "\n",
    "В этом курсе мы будем писать много функций, которые вычисляют градиенты аналитическим методом.\n",
    "\n",
    "Все функции, в которых мы будем вычислять градиенты, будут написаны по одной и той же схеме.  \n",
    "Они будут получать на вход точку, где нужно вычислить значение и градиент функции, а на выходе будут выдавать кортеж (tuple) из двух значений - собственно значения функции в этой точке (всегда одно число) и аналитического значения градиента в той же точке (той же размерности, что и вход).\n",
    "```\n",
    "def f(x):\n",
    "    \"\"\"\n",
    "    Computes function and analytic gradient at x\n",
    "    \n",
    "    x: np array of float, input to the function\n",
    "    \n",
    "    Returns:\n",
    "    value: float, value of the function \n",
    "    grad: np array of float, same shape as x\n",
    "    \"\"\"\n",
    "    ...\n",
    "    \n",
    "    return value, grad\n",
    "```\n",
    "\n",
    "Необходимым инструментом во время реализации кода, вычисляющего градиенты, является функция его проверки. Эта функция вычисляет градиент численным методом и сверяет результат с градиентом, вычисленным аналитическим методом.\n",
    "\n",
    "Мы начнем с того, чтобы реализовать вычисление численного градиента (numeric gradient) в функции `check_gradient` в `gradient_check.py`. Эта функция будет принимать на вход функции формата, заданного выше, использовать значение `value` для вычисления численного градиента и сравнит его с аналитическим - они должны сходиться.\n",
    "\n",
    "Напишите часть функции, которая вычисляет градиент с помощью численной производной для каждой координаты. Для вычисления производной используйте так называемую two-point formula (https://en.wikipedia.org/wiki/Numerical_differentiation):\n",
    "\n",
    "![image](https://wikimedia.org/api/rest_v1/media/math/render/svg/22fc2c0a66c63560a349604f8b6b39221566236d)\n",
    "\n",
    "Все функции приведенные в следующей клетке должны проходить gradient check."
   ]
  },
  {
   "cell_type": "code",
   "execution_count": 4,
   "metadata": {
    "scrolled": true
   },
   "outputs": [
    {
     "name": "stdout",
     "output_type": "stream",
     "text": [
      "Gradient check passed!\n",
      "Gradient check passed!\n",
      "Gradient check passed!\n"
     ]
    },
    {
     "data": {
      "text/plain": [
       "True"
      ]
     },
     "execution_count": 4,
     "metadata": {},
     "output_type": "execute_result"
    }
   ],
   "source": [
    "# TODO: Implement check_gradient function in gradient_check.py\n",
    "# All the functions below should pass the gradient check\n",
    "\n",
    "def square(x):\n",
    "    return float(x*x), 2*x\n",
    "\n",
    "check_gradient(square, np.array([3.0]))\n",
    "\n",
    "def array_sum(x):\n",
    "    assert x.shape == (2,), x.shape\n",
    "    return np.sum(x), np.ones_like(x)\n",
    "\n",
    "check_gradient(array_sum, np.array([3.0, 2.0]))\n",
    "\n",
    "def array_2d_sum(x):\n",
    "    assert x.shape == (2,2)\n",
    "    return np.sum(x), np.ones_like(x)\n",
    "\n",
    "check_gradient(array_2d_sum, np.array([[3.0, 2.0], [1.0, 0.0]]))"
   ]
  },
  {
   "cell_type": "markdown",
   "metadata": {},
   "source": [
    "## Начинаем писать свои функции, считающие аналитический градиент\n",
    "\n",
    "Теперь реализуем функцию softmax, которая получает на вход оценки для каждого класса и преобразует их в вероятности от 0 до 1:\n",
    "![image](https://wikimedia.org/api/rest_v1/media/math/render/svg/e348290cf48ddbb6e9a6ef4e39363568b67c09d3)\n",
    "\n",
    "**Важно:** Практический аспект вычисления этой функции заключается в том, что в ней учавствует вычисление экспоненты от потенциально очень больших чисел - это может привести к очень большим значениям в числителе и знаменателе за пределами диапазона float.\n",
    "\n",
    "К счастью, у этой проблемы есть простое решение -- перед вычислением softmax вычесть из всех оценок максимальное значение среди всех оценок:\n",
    "```\n",
    "predictions -= np.max(predictions)\n",
    "```\n",
    "(подробнее здесь - http://cs231n.github.io/linear-classify/#softmax, секция `Practical issues: Numeric stability`)"
   ]
  },
  {
   "cell_type": "code",
   "execution_count": 24,
   "metadata": {},
   "outputs": [
    {
     "name": "stdout",
     "output_type": "stream",
     "text": [
      "[2.06106005e-09 4.53978686e-05 9.99954600e-01]\n",
      "[1. 0. 0.]\n"
     ]
    }
   ],
   "source": [
    "# TODO Implement softmax and cross-entropy for single sample\n",
    "probs = linear_classifer.softmax(np.array([-10, 0, 10]))\n",
    "print(probs)\n",
    "# Make sure it works for big numbers too!\n",
    "probs = linear_classifer.softmax(np.array([1000, 0, 0]))\n",
    "print(probs)\n",
    "assert np.isclose(probs[0], 1.0)"
   ]
  },
  {
   "cell_type": "markdown",
   "metadata": {},
   "source": [
    "Кроме этого, мы реализуем cross-entropy loss, которую мы будем использовать как функцию ошибки (error function).\n",
    "В общем виде cross-entropy определена следующим образом:\n",
    "![image](https://wikimedia.org/api/rest_v1/media/math/render/svg/0cb6da032ab424eefdca0884cd4113fe578f4293)\n",
    "\n",
    "где x - все классы, p(x) - истинная вероятность принадлежности сэмпла классу x, а q(x) - вероятность принадлежности классу x, предсказанная моделью.  \n",
    "В нашем случае сэмпл принадлежит только одному классу, индекс которого передается функции. Для него p(x) равна 1, а для остальных классов - 0. \n",
    "\n",
    "Это позволяет реализовать функцию проще!"
   ]
  },
  {
   "cell_type": "code",
   "execution_count": 45,
   "metadata": {},
   "outputs": [
    {
     "name": "stdout",
     "output_type": "stream",
     "text": [
      "[[0.13533528 0.36787944 1.        ]\n",
      " [0.13533528 0.36787944 1.        ]]\n",
      "[1.50321472 1.50321472]\n",
      "[[1.50321472]\n",
      " [1.50321472]]\n",
      "3.0064294488161103\n",
      "[[0.04501529 0.12236424 0.33262048]\n",
      " [0.04501529 0.12236424 0.33262048]]\n"
     ]
    },
    {
     "data": {
      "text/plain": [
       "array([[0.09003057, 0.24472847, 0.66524096],\n",
       "       [0.09003057, 0.24472847, 0.66524096]])"
      ]
     },
     "execution_count": 45,
     "metadata": {},
     "output_type": "execute_result"
    }
   ],
   "source": [
    "probs = linear_classifer.softmax(np.array([[0, 1, 2], [3, 4, 5]]))\n",
    "# linear_classifer.cross_entropy_loss(probs, 1)\n",
    "probs\n",
    "\n",
    "# array([[2.11939299e-05, 3.14545809e-03, 4.66827373e-01],\n",
    "#        [3.88180367e-07, 6.31782147e-02, 4.66827373e-01]])\n",
    "\n",
    "# array([[4.50940412e-05, 6.69254912e-03, 9.93262357e-01],\n",
    "#        [7.32407530e-07, 1.19202835e-01, 8.80796433e-01]])\n",
    "\n",
    "# true\n",
    "# array([[4.50940412e-05, 6.69254912e-03, 9.93262357e-01],\n",
    "#        [2.06106005e-09, 4.53978686e-05, 9.99954600e-01]])\n",
    "\n",
    "# false\n",
    "# array([[2.26227224e-05, 3.35750970e-03, 4.98298622e-01],\n",
    "#        [1.02707001e-09, 2.26227224e-05, 4.98298622e-01]])"
   ]
  },
  {
   "cell_type": "markdown",
   "metadata": {},
   "source": [
    "# После того как мы реализовали сами функции, мы можем реализовать градиент.\n",
    "\n",
    "Оказывается, что вычисление градиента становится гораздо проще, если объединить эти функции в одну, которая сначала вычисляет вероятности через softmax, а потом использует их для вычисления функции ошибки через cross-entropy loss.\n",
    "\n",
    "Эта функция `softmax_with_cross_entropy` будет возвращает и значение ошибки, и градиент по входным параметрам. Мы проверим корректность реализации с помощью `check_gradient`."
   ]
  },
  {
   "cell_type": "code",
   "execution_count": 7,
   "metadata": {},
   "outputs": [
    {
     "name": "stdout",
     "output_type": "stream",
     "text": [
      "loss 1.551444713932051 grad [ 0.57611688 -0.78805844  0.21194156]\n",
      "Gradient check passed!\n"
     ]
    },
    {
     "data": {
      "text/plain": [
       "True"
      ]
     },
     "execution_count": 7,
     "metadata": {},
     "output_type": "execute_result"
    }
   ],
   "source": [
    "# TODO Implement combined function or softmax and cross entropy and produces gradient\n",
    "loss, grad = linear_classifer.softmax_with_cross_entropy(np.array([1, 0, 0]), 1)\n",
    "print(\"loss\", loss, \"grad\", grad)\n",
    "check_gradient(lambda x: linear_classifer.softmax_with_cross_entropy(x, 1), np.array([1, 0, 0], np.float))"
   ]
  },
  {
   "cell_type": "markdown",
   "metadata": {},
   "source": [
    "В качестве метода тренировки мы будем использовать стохастический градиентный спуск (stochastic gradient descent или SGD), который работает с батчами сэмплов. \n",
    "\n",
    "Поэтому все наши фукнции будут получать не один пример, а батч, то есть входом будет не вектор из `num_classes` оценок, а матрица размерности `batch_size, num_classes`. Индекс примера в батче всегда будет первым измерением.\n",
    "\n",
    "Следующий шаг - переписать наши функции так, чтобы они поддерживали батчи.\n",
    "\n",
    "Финальное значение функции ошибки должно остаться числом, и оно равно среднему значению ошибки среди всех примеров в батче."
   ]
  },
  {
   "cell_type": "code",
   "execution_count": 16,
   "metadata": {
    "scrolled": false
   },
   "outputs": [
    {
     "name": "stdout",
     "output_type": "stream",
     "text": [
      "Gradient check passed!\n",
      "Gradient check passed!\n"
     ]
    },
    {
     "data": {
      "text/plain": [
       "True"
      ]
     },
     "execution_count": 16,
     "metadata": {},
     "output_type": "execute_result"
    }
   ],
   "source": [
    "# TODO Extend combined function so it can receive a 2d array with batch of samples\n",
    "np.random.seed(42)\n",
    "# Test batch_size = 1\n",
    "num_classes = 4\n",
    "batch_size = 1\n",
    "predictions = np.random.randint(-1, 3, size=(batch_size, num_classes)).astype(np.float)\n",
    "target_index = np.random.randint(0, num_classes, size=(batch_size, 1)).astype(np.int)\n",
    "check_gradient(lambda x: linear_classifer.softmax_with_cross_entropy(x, target_index), predictions)\n",
    "\n",
    "# Test batch_size = 3\n",
    "num_classes = 4\n",
    "batch_size = 3\n",
    "predictions = np.random.randint(-1, 3, size=(batch_size, num_classes)).astype(np.float)\n",
    "target_index = np.random.randint(0, num_classes, size=(batch_size, 1)).astype(np.int)\n",
    "check_gradient(lambda x: linear_classifer.softmax_with_cross_entropy(x, target_index), predictions)\n",
    "\n",
    "# Make sure maximum subtraction for numberic stability is done separately for every sample in the batch\n",
    "probs = linear_classifer.softmax(np.array([[20,0,0], [1000, 0, 0]]))\n",
    "assert np.all(np.isclose(probs[:, 0], 1.0))"
   ]
  },
  {
   "cell_type": "code",
   "execution_count": 9,
   "metadata": {},
   "outputs": [
    {
     "name": "stdout",
     "output_type": "stream",
     "text": [
      "[[1]\n",
      " [0]]\n",
      "[[0.05325349 0.39349302 0.39349302]\n",
      " [0.05325349 0.05325349 0.05325349]]\n",
      "sub [[0.39349302 0.05325349]\n",
      " [0.05325349 0.05325349]]\n",
      "sub2 [[-0.60650698 -0.94674651]\n",
      " [-0.94674651 -0.94674651]]\n",
      "9.73076778712732\n",
      "4.86538389356366\n"
     ]
    }
   ],
   "source": [
    "###Tests\n",
    "num_classes = 3\n",
    "batch_size = 2\n",
    "target_index = np.random.randint(0, num_classes, size=(batch_size, 1)).astype(np.int)\n",
    "print(target_index)\n",
    "rows_count = target_index.shape[0]\n",
    "probs = np.random.randint(-1, 3, size=(batch_size, num_classes)).astype(np.float)\n",
    "# print(probs)\n",
    "probs = linear_classifer.softmax(probs)\n",
    "print(probs)\n",
    "sub = probs[range(rows_count), target_index]\n",
    "print(\"sub\", sub)\n",
    "sub2 = probs[range(rows_count), target_index] - 1\n",
    "print(\"sub2\", sub2)\n",
    "print(np.sum(-np.log(sub)))\n",
    "print(np.sum(-np.log(sub))/rows_count)\n"
   ]
  },
  {
   "cell_type": "markdown",
   "metadata": {},
   "source": [
    "### Наконец, реализуем сам линейный классификатор!\n",
    "\n",
    "softmax и cross-entropy получают на вход оценки, которые выдает линейный классификатор.\n",
    "\n",
    "Он делает это очень просто: для каждого класса есть набор весов, на которые надо умножить пиксели картинки и сложить. Получившееся число и является оценкой класса, идущей на вход softmax.\n",
    "\n",
    "Таким образом, линейный классификатор можно представить как умножение вектора с пикселями на матрицу W размера `num_features, num_classes`. Такой подход легко расширяется на случай батча векторов с пикселями X размера `batch_size, num_features`:\n",
    "\n",
    "`predictions = X * W`, где `*` - матричное умножение.\n",
    "\n",
    "Реализуйте функцию подсчета линейного классификатора и градиентов по весам `linear_softmax` в файле `linear_classifer.py`"
   ]
  },
  {
   "cell_type": "code",
   "execution_count": 10,
   "metadata": {},
   "outputs": [
    {
     "name": "stdout",
     "output_type": "stream",
     "text": [
      "[1 1]\n",
      "[[-1. -1.  1.]\n",
      " [ 0.  1.  1.]] \n",
      "W\n",
      " [[ 1.  2.]\n",
      " [-1.  1.]\n",
      " [ 1.  2.]]\n",
      "Gradients are different at (0, 0). Analytic: -0.05623, Numeric: -0.11246\n"
     ]
    },
    {
     "data": {
      "text/plain": [
       "False"
      ]
     },
     "execution_count": 10,
     "metadata": {},
     "output_type": "execute_result"
    }
   ],
   "source": [
    "# TODO Implement linear_softmax function that uses softmax with cross-entropy for linear classifier\n",
    "batch_size = 2\n",
    "num_classes = 2\n",
    "num_features = 3\n",
    "np.random.seed(42)\n",
    "W = np.random.randint(-1, 3, size=(num_features, num_classes)).astype(np.float)\n",
    "X = np.random.randint(-1, 3, size=(batch_size, num_features)).astype(np.float)\n",
    "target_index = np.ones(batch_size, dtype=np.int)\n",
    "print(target_index)\n",
    "print(X, \"\\nW\\n\", W)\n",
    "loss, dW = linear_classifer.linear_softmax(X, W, target_index)\n",
    "check_gradient(lambda w: linear_classifer.linear_softmax(X, w, target_index), W)"
   ]
  },
  {
   "cell_type": "markdown",
   "metadata": {},
   "source": [
    "### И теперь регуляризация\n",
    "\n",
    "Мы будем использовать L2 regularization для весов как часть общей функции ошибки.\n",
    "\n",
    "Напомним, L2 regularization определяется как\n",
    "\n",
    "l2_reg_loss = regularization_strength * sum<sub>ij</sub> W[i, j]<sup>2</sup>\n",
    "\n",
    "Реализуйте функцию для его вычисления и вычисления соотвествующих градиентов."
   ]
  },
  {
   "cell_type": "code",
   "execution_count": 11,
   "metadata": {},
   "outputs": [
    {
     "name": "stdout",
     "output_type": "stream",
     "text": [
      "Gradient check passed!\n"
     ]
    },
    {
     "data": {
      "text/plain": [
       "True"
      ]
     },
     "execution_count": 11,
     "metadata": {},
     "output_type": "execute_result"
    }
   ],
   "source": [
    "# TODO Implement l2_regularization function that implements loss for L2 regularization\n",
    "linear_classifer.l2_regularization(W, 0.01)\n",
    "check_gradient(lambda w: linear_classifer.l2_regularization(w, 0.01), W)"
   ]
  },
  {
   "cell_type": "markdown",
   "metadata": {},
   "source": [
    "# Тренировка!"
   ]
  },
  {
   "cell_type": "markdown",
   "metadata": {},
   "source": [
    "Градиенты в порядке, реализуем процесс тренировки!"
   ]
  },
  {
   "cell_type": "code",
   "execution_count": 18,
   "metadata": {
    "scrolled": false
   },
   "outputs": [
    {
     "name": "stdout",
     "output_type": "stream",
     "text": [
      "Epoch 0, loss: 2.397016\n",
      "Epoch 1, loss: 2.330475\n",
      "Epoch 2, loss: 2.310022\n",
      "Epoch 3, loss: 2.304201\n",
      "Epoch 4, loss: 2.302236\n",
      "Epoch 5, loss: 2.302008\n",
      "Epoch 6, loss: 2.302526\n",
      "Epoch 7, loss: 2.302017\n",
      "Epoch 8, loss: 2.300948\n",
      "Epoch 9, loss: 2.302036\n"
     ]
    }
   ],
   "source": [
    "# TODO: Implement LinearSoftmaxClassifier.fit function\n",
    "classifier = linear_classifer.LinearSoftmaxClassifier()\n",
    "loss_history = classifier.fit(train_X, train_y, epochs=10, learning_rate=1e-3, batch_size=300, reg=1e1)"
   ]
  },
  {
   "cell_type": "code",
   "execution_count": 19,
   "metadata": {},
   "outputs": [
    {
     "data": {
      "text/plain": [
       "[<matplotlib.lines.Line2D at 0x7f1c5de91390>]"
      ]
     },
     "execution_count": 19,
     "metadata": {},
     "output_type": "execute_result"
    },
    {
     "data": {
      "image/png": "[encoded data removed]",
      "text/plain": [
       "<Figure size 432x288 with 1 Axes>"
      ]
     },
     "metadata": {},
     "output_type": "display_data"
    }
   ],
   "source": [
    "# let's look at the loss history!\n",
    "plt.plot(loss_history)"
   ]
  },
  {
   "cell_type": "code",
   "execution_count": 17,
   "metadata": {},
   "outputs": [
    {
     "name": "stdout",
     "output_type": "stream",
     "text": [
      "Accuracy:  0.151\n",
      "Epoch 0, loss: 36621.824652\n",
      "Epoch 1, loss: 10896.428935\n",
      "Epoch 2, loss: 3242.399091\n",
      "Epoch 3, loss: 965.753818\n",
      "Epoch 4, loss: 288.114244\n",
      "Epoch 5, loss: 86.930445\n",
      "Epoch 6, loss: 27.369120\n",
      "Epoch 7, loss: 9.707233\n",
      "Epoch 8, loss: 4.497049\n",
      "Epoch 9, loss: 2.957076\n",
      "Epoch 10, loss: 2.492555\n",
      "Epoch 11, loss: 2.358481\n",
      "Epoch 12, loss: 2.320044\n",
      "Epoch 13, loss: 2.307017\n",
      "Epoch 14, loss: 2.302420\n",
      "Epoch 15, loss: 2.303196\n",
      "Epoch 16, loss: 2.301597\n",
      "Epoch 17, loss: 2.302461\n",
      "Epoch 18, loss: 2.301506\n",
      "Epoch 19, loss: 2.303095\n",
      "Epoch 20, loss: 2.302153\n",
      "Epoch 21, loss: 2.301709\n",
      "Epoch 22, loss: 2.301215\n",
      "Epoch 23, loss: 2.302376\n",
      "Epoch 24, loss: 2.301830\n",
      "Epoch 25, loss: 2.301442\n",
      "Epoch 26, loss: 2.301235\n",
      "Epoch 27, loss: 2.302408\n",
      "Epoch 28, loss: 2.301243\n",
      "Epoch 29, loss: 2.301511\n",
      "Epoch 30, loss: 2.302070\n",
      "Epoch 31, loss: 2.301456\n",
      "Epoch 32, loss: 2.302713\n",
      "Epoch 33, loss: 2.301880\n",
      "Epoch 34, loss: 2.300800\n",
      "Epoch 35, loss: 2.301292\n",
      "Epoch 36, loss: 2.301689\n",
      "Epoch 37, loss: 2.302266\n",
      "Epoch 38, loss: 2.301072\n",
      "Epoch 39, loss: 2.301708\n",
      "Epoch 40, loss: 2.301506\n",
      "Epoch 41, loss: 2.302000\n",
      "Epoch 42, loss: 2.302631\n",
      "Epoch 43, loss: 2.301327\n",
      "Epoch 44, loss: 2.301179\n",
      "Epoch 45, loss: 2.302589\n",
      "Epoch 46, loss: 2.301206\n",
      "Epoch 47, loss: 2.301450\n",
      "Epoch 48, loss: 2.301949\n",
      "Epoch 49, loss: 2.300993\n",
      "Epoch 50, loss: 2.301867\n",
      "Epoch 51, loss: 2.301890\n",
      "Epoch 52, loss: 2.301891\n",
      "Epoch 53, loss: 2.301940\n",
      "Epoch 54, loss: 2.301943\n",
      "Epoch 55, loss: 2.301836\n",
      "Epoch 56, loss: 2.302296\n",
      "Epoch 57, loss: 2.302120\n",
      "Epoch 58, loss: 2.301099\n",
      "Epoch 59, loss: 2.301467\n",
      "Epoch 60, loss: 2.302126\n",
      "Epoch 61, loss: 2.302279\n",
      "Epoch 62, loss: 2.302110\n",
      "Epoch 63, loss: 2.301425\n",
      "Epoch 64, loss: 2.301302\n",
      "Epoch 65, loss: 2.302114\n",
      "Epoch 66, loss: 2.301173\n",
      "Epoch 67, loss: 2.301739\n",
      "Epoch 68, loss: 2.302085\n",
      "Epoch 69, loss: 2.301888\n",
      "Epoch 70, loss: 2.302002\n",
      "Epoch 71, loss: 2.302720\n",
      "Epoch 72, loss: 2.302177\n",
      "Epoch 73, loss: 2.301694\n",
      "Epoch 74, loss: 2.301847\n",
      "Epoch 75, loss: 2.302598\n",
      "Epoch 76, loss: 2.301427\n",
      "Epoch 77, loss: 2.302765\n",
      "Epoch 78, loss: 2.302958\n",
      "Epoch 79, loss: 2.301959\n",
      "Epoch 80, loss: 2.301716\n",
      "Epoch 81, loss: 2.302008\n",
      "Epoch 82, loss: 2.301518\n",
      "Epoch 83, loss: 2.301253\n",
      "Epoch 84, loss: 2.302204\n",
      "Epoch 85, loss: 2.302027\n",
      "Epoch 86, loss: 2.301216\n",
      "Epoch 87, loss: 2.301765\n",
      "Epoch 88, loss: 2.301389\n",
      "Epoch 89, loss: 2.302758\n",
      "Epoch 90, loss: 2.301520\n",
      "Epoch 91, loss: 2.302095\n",
      "Epoch 92, loss: 2.301382\n",
      "Epoch 93, loss: 2.302374\n",
      "Epoch 94, loss: 2.301323\n",
      "Epoch 95, loss: 2.301604\n",
      "Epoch 96, loss: 2.301539\n",
      "Epoch 97, loss: 2.301976\n",
      "Epoch 98, loss: 2.302106\n",
      "Epoch 99, loss: 2.301744\n",
      "Accuracy after training for 100 epochs:  0.135\n"
     ]
    }
   ],
   "source": [
    "# Let's check how it performs on validation set\n",
    "pred = classifier.predict(val_X)\n",
    "accuracy = multiclass_accuracy(pred, val_y)\n",
    "print(\"Accuracy: \", accuracy)\n",
    "\n",
    "# Now, let's train more and see if it performs better\n",
    "classifier.fit(train_X, train_y, epochs=100, learning_rate=1e-3, batch_size=300, reg=1e1)\n",
    "pred = classifier.predict(val_X)\n",
    "accuracy = multiclass_accuracy(pred, val_y)\n",
    "print(\"Accuracy after training for 100 epochs: \", accuracy)"
   ]
  },
  {
   "cell_type": "markdown",
   "metadata": {},
   "source": [
    "### Как и раньше, используем кросс-валидацию для подбора гиперпараметтов.\n",
    "\n",
    "В этот раз, чтобы тренировка занимала разумное время, мы будем использовать только одно разделение на тренировочные (training) и проверочные (validation) данные.\n",
    "\n",
    "Теперь нам нужно подобрать не один, а два гиперпараметра! Не ограничивайте себя изначальными значениями в коде.  \n",
    "Добейтесь точности более чем **20%** на проверочных данных (validation data)."
   ]
  },
  {
   "cell_type": "code",
   "execution_count": 20,
   "metadata": {
    "scrolled": true
   },
   "outputs": [
    {
     "name": "stdout",
     "output_type": "stream",
     "text": [
      "Epoch 0, loss: 2.285775\n",
      "Epoch 1, loss: 2.257203\n",
      "Epoch 2, loss: 2.229349\n",
      "Epoch 3, loss: 2.179066\n",
      "Epoch 4, loss: 2.209311\n",
      "Epoch 5, loss: 2.173242\n",
      "Epoch 6, loss: 2.209342\n",
      "Epoch 7, loss: 2.165343\n",
      "Epoch 8, loss: 2.208899\n",
      "Epoch 9, loss: 2.162766\n",
      "Epoch 10, loss: 2.161695\n",
      "Epoch 11, loss: 2.141269\n",
      "Epoch 12, loss: 2.123843\n",
      "Epoch 13, loss: 2.131501\n",
      "Epoch 14, loss: 2.159002\n",
      "Epoch 15, loss: 2.118550\n",
      "Epoch 16, loss: 2.182516\n",
      "Epoch 17, loss: 2.095307\n",
      "Epoch 18, loss: 2.108832\n",
      "Epoch 19, loss: 2.127644\n",
      "Epoch 20, loss: 2.175256\n",
      "Epoch 21, loss: 2.098976\n",
      "Epoch 22, loss: 2.127613\n",
      "Epoch 23, loss: 2.081311\n",
      "Epoch 24, loss: 2.148421\n",
      "Epoch 25, loss: 2.090880\n",
      "Epoch 26, loss: 2.144778\n",
      "Epoch 27, loss: 2.109605\n",
      "Epoch 28, loss: 2.127457\n",
      "Epoch 29, loss: 2.130436\n",
      "Epoch 30, loss: 2.091616\n",
      "Epoch 31, loss: 2.108678\n",
      "Epoch 32, loss: 2.135652\n",
      "Epoch 33, loss: 2.099592\n",
      "Epoch 34, loss: 2.130903\n",
      "Epoch 35, loss: 2.055338\n",
      "Epoch 36, loss: 2.105577\n",
      "Epoch 37, loss: 2.089448\n",
      "Epoch 38, loss: 2.135434\n",
      "Epoch 39, loss: 2.151783\n",
      "Epoch 40, loss: 2.172651\n",
      "Epoch 41, loss: 2.051546\n",
      "Epoch 42, loss: 2.123590\n",
      "Epoch 43, loss: 2.064088\n",
      "Epoch 44, loss: 2.091499\n",
      "Epoch 45, loss: 2.112138\n",
      "Epoch 46, loss: 2.109982\n",
      "Epoch 47, loss: 2.126145\n",
      "Epoch 48, loss: 2.069540\n",
      "Epoch 49, loss: 2.049734\n",
      "Epoch 50, loss: 2.082029\n",
      "Epoch 51, loss: 2.137633\n",
      "Epoch 52, loss: 2.120363\n",
      "Epoch 53, loss: 2.081252\n",
      "Epoch 54, loss: 2.114748\n",
      "Epoch 55, loss: 2.113567\n",
      "Epoch 56, loss: 2.106853\n",
      "Epoch 57, loss: 2.098951\n",
      "Epoch 58, loss: 2.088203\n",
      "Epoch 59, loss: 2.084469\n",
      "Epoch 60, loss: 2.107409\n",
      "Epoch 61, loss: 2.094514\n",
      "Epoch 62, loss: 2.046898\n",
      "Epoch 63, loss: 2.098970\n",
      "Epoch 64, loss: 2.032060\n",
      "Epoch 65, loss: 2.027126\n",
      "Epoch 66, loss: 2.094991\n",
      "Epoch 67, loss: 2.042862\n",
      "Epoch 68, loss: 2.121983\n",
      "Epoch 69, loss: 2.085967\n",
      "Epoch 70, loss: 2.100345\n",
      "Epoch 71, loss: 2.141002\n",
      "Epoch 72, loss: 2.095694\n",
      "Epoch 73, loss: 2.091859\n",
      "Epoch 74, loss: 2.078231\n",
      "Epoch 75, loss: 2.061006\n",
      "Epoch 76, loss: 2.103239\n",
      "Epoch 77, loss: 2.069109\n",
      "Epoch 78, loss: 2.073978\n",
      "Epoch 79, loss: 2.060338\n",
      "Epoch 80, loss: 2.111801\n",
      "Epoch 81, loss: 2.114621\n",
      "Epoch 82, loss: 2.110069\n",
      "Epoch 83, loss: 2.008727\n",
      "Epoch 84, loss: 2.188926\n",
      "Epoch 85, loss: 2.122845\n",
      "Epoch 86, loss: 2.054349\n",
      "Epoch 87, loss: 2.056250\n",
      "Epoch 88, loss: 2.128915\n",
      "Epoch 89, loss: 2.085086\n",
      "Epoch 90, loss: 2.151939\n",
      "Epoch 91, loss: 2.062702\n",
      "Epoch 92, loss: 2.143455\n",
      "Epoch 93, loss: 2.054734\n",
      "Epoch 94, loss: 2.043884\n",
      "Epoch 95, loss: 2.078470\n",
      "Epoch 96, loss: 2.008756\n",
      "Epoch 97, loss: 2.153853\n",
      "Epoch 98, loss: 2.108416\n",
      "Epoch 99, loss: 2.109615\n",
      "Epoch 100, loss: 2.048102\n",
      "Epoch 101, loss: 2.079948\n",
      "Epoch 102, loss: 2.034633\n",
      "Epoch 103, loss: 2.044116\n",
      "Epoch 104, loss: 2.130747\n",
      "Epoch 105, loss: 2.079617\n",
      "Epoch 106, loss: 2.019578\n",
      "Epoch 107, loss: 2.043090\n",
      "Epoch 108, loss: 2.073077\n",
      "Epoch 109, loss: 2.060634\n",
      "Epoch 110, loss: 2.068475\n",
      "Epoch 111, loss: 2.109396\n",
      "Epoch 112, loss: 1.999676\n",
      "Epoch 113, loss: 2.088395\n",
      "Epoch 114, loss: 2.067912\n",
      "Epoch 115, loss: 2.101181\n",
      "Epoch 116, loss: 2.109023\n",
      "Epoch 117, loss: 1.970741\n",
      "Epoch 118, loss: 2.070709\n",
      "Epoch 119, loss: 2.085775\n",
      "Epoch 120, loss: 2.157350\n",
      "Epoch 121, loss: 2.045862\n",
      "Epoch 122, loss: 2.080981\n",
      "Epoch 123, loss: 2.050884\n",
      "Epoch 124, loss: 2.062916\n",
      "Epoch 125, loss: 2.034070\n",
      "Epoch 126, loss: 2.043933\n",
      "Epoch 127, loss: 2.063693\n",
      "Epoch 128, loss: 2.050517\n",
      "Epoch 129, loss: 2.051398\n",
      "Epoch 130, loss: 2.014251\n",
      "Epoch 131, loss: 2.048017\n",
      "Epoch 132, loss: 2.055015\n",
      "Epoch 133, loss: 2.024193\n",
      "Epoch 134, loss: 2.066565\n",
      "Epoch 135, loss: 2.100844\n",
      "Epoch 136, loss: 2.025310\n",
      "Epoch 137, loss: 2.011613\n",
      "Epoch 138, loss: 2.035157\n",
      "Epoch 139, loss: 2.004707\n",
      "Epoch 140, loss: 2.006393\n",
      "Epoch 141, loss: 1.992244\n",
      "Epoch 142, loss: 2.041802\n",
      "Epoch 143, loss: 2.125734\n",
      "Epoch 144, loss: 2.039371\n",
      "Epoch 145, loss: 2.051658\n",
      "Epoch 146, loss: 2.052346\n",
      "Epoch 147, loss: 2.054477\n",
      "Epoch 148, loss: 2.042996\n",
      "Epoch 149, loss: 2.064830\n",
      "Epoch 150, loss: 2.109100\n",
      "Epoch 151, loss: 2.078076\n",
      "Epoch 152, loss: 2.058576\n",
      "Epoch 153, loss: 2.082947\n",
      "Epoch 154, loss: 2.130088\n",
      "Epoch 155, loss: 2.085091\n",
      "Epoch 156, loss: 2.088951\n",
      "Epoch 157, loss: 2.066428\n",
      "Epoch 158, loss: 2.048108\n",
      "Epoch 159, loss: 2.016908\n",
      "Epoch 160, loss: 2.002662\n",
      "Epoch 161, loss: 2.025473\n",
      "Epoch 162, loss: 2.037807\n",
      "Epoch 163, loss: 2.011964\n",
      "Epoch 164, loss: 2.090414\n",
      "Epoch 165, loss: 2.016641\n",
      "Epoch 166, loss: 2.009378\n",
      "Epoch 167, loss: 2.027042\n",
      "Epoch 168, loss: 2.040390\n",
      "Epoch 169, loss: 2.039262\n",
      "Epoch 170, loss: 1.969571\n",
      "Epoch 171, loss: 2.021326\n",
      "Epoch 172, loss: 1.997532\n",
      "Epoch 173, loss: 2.084506\n",
      "Epoch 174, loss: 1.988391\n",
      "Epoch 175, loss: 2.027429\n",
      "Epoch 176, loss: 1.998152\n",
      "Epoch 177, loss: 2.070334\n",
      "Epoch 178, loss: 2.041673\n",
      "Epoch 179, loss: 2.020576\n",
      "Epoch 180, loss: 2.044550\n",
      "Epoch 181, loss: 2.074132\n",
      "Epoch 182, loss: 2.158551\n",
      "Epoch 183, loss: 2.034156\n",
      "Epoch 184, loss: 2.071416\n",
      "Epoch 185, loss: 2.041839\n",
      "Epoch 186, loss: 2.030089\n",
      "Epoch 187, loss: 2.075400\n",
      "Epoch 188, loss: 2.049816\n",
      "Epoch 189, loss: 2.032643\n",
      "Epoch 190, loss: 2.032525\n",
      "Epoch 191, loss: 2.081766\n",
      "Epoch 192, loss: 2.065461\n",
      "Epoch 193, loss: 1.946981\n",
      "Epoch 194, loss: 2.028643\n",
      "Epoch 195, loss: 2.050142\n",
      "Epoch 196, loss: 2.059419\n",
      "Epoch 197, loss: 2.032540\n",
      "Epoch 198, loss: 2.056731\n",
      "Epoch 199, loss: 2.031363\n",
      "cur best accuracy achieved: 0.240000\n",
      "lr 0.05 reg 1e-05\n",
      "best validation accuracy achieved: 0.240000\n"
     ]
    },
    {
     "data": {
      "image/png": "[encoded data removed]",
      "text/plain": [
       "<Figure size 432x288 with 1 Axes>"
      ]
     },
     "metadata": {},
     "output_type": "display_data"
    }
   ],
   "source": [
    "num_epochs = 200\n",
    "batch_size = 300\n",
    "\n",
    "learning_rates = [5e-2]\n",
    "reg_strengths = [1e-5]\n",
    "\n",
    "# learning_rates = [1e-2, 3e-2, 1e-3]\n",
    "# reg_strengths = [1e-3, 1e-4, 1e-5]\n",
    "\n",
    "best_classifier = None\n",
    "best_val_accuracy = 0\n",
    "\n",
    "# TODO use validation set to find the best hyperparameters\n",
    "# hint: for best results, you might need to try more values for learning rate and regularization strength \n",
    "# than provided initially\n",
    "\n",
    "for lr in learning_rates:\n",
    "    for reg in reg_strengths:\n",
    "        classifier = linear_classifer.LinearSoftmaxClassifier()\n",
    "        loss_history = classifier.fit(train_X, train_y, epochs=num_epochs, learning_rate=lr, batch_size=batch_size, reg=reg)\n",
    "        plt.plot(loss_history)\n",
    "        pred = classifier.predict(val_X)\n",
    "        accuracy = multiclass_accuracy(pred, val_y)\n",
    "        if best_val_accuracy < accuracy: \n",
    "            best_val_accuracy = accuracy\n",
    "            best_classifier = classifier\n",
    "            print('cur best accuracy achieved: %f' % best_val_accuracy)\n",
    "            print(\"lr\", lr, \"reg\", reg)\n",
    "\n",
    "print('best validation accuracy achieved: %f' % best_val_accuracy)"
   ]
  },
  {
   "cell_type": "markdown",
   "metadata": {},
   "source": [
    "# Какой же точности мы добились на тестовых данных?"
   ]
  },
  {
   "cell_type": "code",
   "execution_count": 21,
   "metadata": {},
   "outputs": [
    {
     "name": "stdout",
     "output_type": "stream",
     "text": [
      "Linear softmax classifier test set accuracy: 0.222000\n"
     ]
    }
   ],
   "source": [
    "test_pred = best_classifier.predict(test_X)\n",
    "test_accuracy = multiclass_accuracy(test_pred, test_y)\n",
    "print('Linear softmax classifier test set accuracy: %f' % (test_accuracy, ))"
   ]
  },
  {
   "cell_type": "code",
   "execution_count": null,
   "metadata": {},
   "outputs": [],
   "source": []
  }
 ],
 "metadata": {
  "kernelspec": {
   "display_name": "Python 3",
   "language": "python",
   "name": "python3"
  },
  "language_info": {
   "codemirror_mode": {
    "name": "ipython",
    "version": 3
   },
   "file_extension": ".py",
   "mimetype": "text/x-python",
   "name": "python",
   "nbconvert_exporter": "python",
   "pygments_lexer": "ipython3",
   "version": "3.6.6"
  }
 },
 "nbformat": 4,
 "nbformat_minor": 2
}
