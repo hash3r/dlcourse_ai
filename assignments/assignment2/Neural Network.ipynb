{
 "cells": [
  {
   "cell_type": "markdown",
   "metadata": {},
   "source": [
    "# Задание 2.1 - Нейронные сети\n",
    "\n",
    "В этом задании вы реализуете и натренируете настоящую нейроную сеть своими руками!\n",
    "\n",
    "В некотором смысле это будет расширением прошлого задания - нам нужно просто составить несколько линейных классификаторов вместе!\n",
    "\n",
    "<img src=\"https://i.redd.it/n9fgba8b0qr01.png\" alt=\"Stack_more_layers\" width=\"400px\"/>"
   ]
  },
  {
   "cell_type": "code",
   "execution_count": 1,
   "metadata": {},
   "outputs": [],
   "source": [
    "import numpy as np\n",
    "import matplotlib.pyplot as plt\n",
    "\n",
    "%matplotlib inline\n",
    "\n",
    "%load_ext autoreload\n",
    "%autoreload 2"
   ]
  },
  {
   "cell_type": "code",
   "execution_count": 2,
   "metadata": {},
   "outputs": [],
   "source": [
    "from dataset import load_svhn, random_split_train_val\n",
    "from gradient_check import check_layer_gradient, check_layer_param_gradient, check_model_gradient\n",
    "from layers import FullyConnectedLayer, ReLULayer\n",
    "from model import TwoLayerNet\n",
    "from trainer import Trainer, Dataset\n",
    "from optim import SGD, MomentumSGD\n",
    "from metrics import multiclass_accuracy"
   ]
  },
  {
   "cell_type": "markdown",
   "metadata": {},
   "source": [
    "# Загружаем данные\n",
    "\n",
    "И разделяем их на training и validation."
   ]
  },
  {
   "cell_type": "code",
   "execution_count": 3,
   "metadata": {},
   "outputs": [],
   "source": [
    "def prepare_for_neural_network(train_X, test_X):\n",
    "    train_flat = train_X.reshape(train_X.shape[0], -1).astype(np.float) / 255.0\n",
    "    test_flat = test_X.reshape(test_X.shape[0], -1).astype(np.float) / 255.0\n",
    "    \n",
    "    # Subtract mean\n",
    "    mean_image = np.mean(train_flat, axis = 0)\n",
    "    train_flat -= mean_image\n",
    "    test_flat -= mean_image\n",
    "    \n",
    "    return train_flat, test_flat\n",
    "    \n",
    "train_X, train_y, test_X, test_y = load_svhn(\"data\", max_train=10000, max_test=1000)    \n",
    "train_X, test_X = prepare_for_neural_network(train_X, test_X)\n",
    "# Split train into train and val\n",
    "train_X, train_y, val_X, val_y = random_split_train_val(train_X, train_y, num_val = 1000)"
   ]
  },
  {
   "cell_type": "markdown",
   "metadata": {},
   "source": [
    "# Как всегда, начинаем с кирпичиков\n",
    "\n",
    "Мы будем реализовывать необходимые нам слои по очереди. Каждый слой должен реализовать:\n",
    "- прямой проход (forward pass), который генерирует выход слоя по входу и запоминает необходимые данные\n",
    "- обратный проход (backward pass), который получает градиент по выходу слоя и вычисляет градиент по входу и по параметрам\n",
    "\n",
    "Начнем с ReLU, у которого параметров нет."
   ]
  },
  {
   "cell_type": "code",
   "execution_count": 4,
   "metadata": {
    "scrolled": false
   },
   "outputs": [
    {
     "name": "stdout",
     "output_type": "stream",
     "text": [
      "Gradient check passed!\n"
     ]
    }
   ],
   "source": [
    "# TODO: Implement ReLULayer layer in layers.py\n",
    "# Note: you'll need to copy implementation of the gradient_check function from the previous assignment\n",
    "\n",
    "X = np.array([[1,-2,3],\n",
    "              [-1, 2, 0.1]\n",
    "              ])\n",
    "\n",
    "assert check_layer_gradient(ReLULayer(), X)"
   ]
  },
  {
   "cell_type": "markdown",
   "metadata": {},
   "source": [
    "А теперь реализуем полносвязный слой (fully connected layer), у которого будет два массива параметров: W (weights) и B (bias).\n",
    "\n",
    "Все параметры наши слои будут использовать для параметров специальный класс `Param`, в котором будут храниться значения параметров и градиенты этих параметров, вычисляемые во время обратного прохода.\n",
    "\n",
    "Это даст возможность аккумулировать (суммировать) градиенты из разных частей функции потерь, например, из cross-entropy loss и regularization loss."
   ]
  },
  {
   "cell_type": "code",
   "execution_count": 6,
   "metadata": {},
   "outputs": [
    {
     "name": "stdout",
     "output_type": "stream",
     "text": [
      "Gradient check passed!\n",
      "Gradient check passed!\n",
      "Gradient check passed!\n"
     ]
    }
   ],
   "source": [
    "# TODO: Implement FullyConnected layer forward and backward methods\n",
    "assert check_layer_gradient(FullyConnectedLayer(3, 4), X)\n",
    "# TODO: Implement storing gradients for W and B\n",
    "assert check_layer_param_gradient(FullyConnectedLayer(3, 4), X, 'W')\n",
    "assert check_layer_param_gradient(FullyConnectedLayer(3, 4), X, 'B')"
   ]
  },
  {
   "cell_type": "markdown",
   "metadata": {},
   "source": [
    "## Создаем нейронную сеть\n",
    "\n",
    "Теперь мы реализуем простейшую нейронную сеть с двумя полносвязным слоями и нелинейностью ReLU. Реализуйте функцию `compute_loss_and_gradients`, она должна запустить прямой и обратный проход через оба слоя для вычисления градиентов.\n",
    "\n",
    "Не забудьте реализовать очистку градиентов в начале функции."
   ]
  },
  {
   "cell_type": "code",
   "execution_count": 12,
   "metadata": {},
   "outputs": [
    {
     "name": "stdout",
     "output_type": "stream",
     "text": [
      "Checking gradient for W1\n",
      "Gradient check passed!\n",
      "Checking gradient for W2\n",
      "Gradient check passed!\n",
      "Checking gradient for B1\n",
      "Gradient check passed!\n",
      "Checking gradient for B2\n",
      "Gradient check passed!\n"
     ]
    },
    {
     "data": {
      "text/plain": [
       "True"
      ]
     },
     "execution_count": 12,
     "metadata": {},
     "output_type": "execute_result"
    }
   ],
   "source": [
    "# TODO: In model.py, implement compute_loss_and_gradients function\n",
    "model = TwoLayerNet(n_input = train_X.shape[1], n_output = 10, hidden_layer_size = 3, reg = 0)\n",
    "loss = model.compute_loss_and_gradients(train_X[:2], train_y[:2])\n",
    "\n",
    "# TODO Now implement backward pass and aggregate all of the params\n",
    "check_model_gradient(model, train_X[:2], train_y[:2])"
   ]
  },
  {
   "cell_type": "markdown",
   "metadata": {},
   "source": [
    "Теперь добавьте к модели регуляризацию - она должна прибавляться к loss и делать свой вклад в градиенты."
   ]
  },
  {
   "cell_type": "code",
   "execution_count": 13,
   "metadata": {},
   "outputs": [
    {
     "name": "stdout",
     "output_type": "stream",
     "text": [
      "Checking gradient for W1\n",
      "Gradient check passed!\n",
      "Checking gradient for W2\n",
      "Gradient check passed!\n",
      "Checking gradient for B1\n",
      "Gradient check passed!\n",
      "Checking gradient for B2\n",
      "Gradient check passed!\n"
     ]
    },
    {
     "data": {
      "text/plain": [
       "True"
      ]
     },
     "execution_count": 13,
     "metadata": {},
     "output_type": "execute_result"
    }
   ],
   "source": [
    "# TODO Now implement l2 regularization in the forward and backward pass\n",
    "model_with_reg = TwoLayerNet(n_input = train_X.shape[1], n_output = 10, hidden_layer_size = 3, reg = 1e1)\n",
    "loss_with_reg = model_with_reg.compute_loss_and_gradients(train_X[:2], train_y[:2])\n",
    "assert loss_with_reg > loss and not np.isclose(loss_with_reg, loss), \\\n",
    "    \"Loss with regularization (%2.4f) should be higher than without it (%2.4f)!\" % (loss, loss_with_reg)\n",
    "\n",
    "check_model_gradient(model_with_reg, train_X[:2], train_y[:2])"
   ]
  },
  {
   "cell_type": "markdown",
   "metadata": {},
   "source": [
    "Также реализуем функцию предсказания (вычисления значения) модели на новых данных.\n",
    "\n",
    "Какое значение точности мы ожидаем увидеть до начала тренировки?"
   ]
  },
  {
   "cell_type": "code",
   "execution_count": 15,
   "metadata": {},
   "outputs": [
    {
     "data": {
      "text/plain": [
       "0.16666666666666663"
      ]
     },
     "execution_count": 15,
     "metadata": {},
     "output_type": "execute_result"
    }
   ],
   "source": [
    "# Finally, implement predict function!\n",
    "\n",
    "# TODO: Implement predict function\n",
    "# What would be the value we expect?\n",
    "multiclass_accuracy(model_with_reg.predict(train_X[:30]), train_y[:30]) "
   ]
  },
  {
   "cell_type": "markdown",
   "metadata": {},
   "source": [
    "# Допишем код для процесса тренировки"
   ]
  },
  {
   "cell_type": "code",
   "execution_count": 20,
   "metadata": {},
   "outputs": [
    {
     "name": "stdout",
     "output_type": "stream",
     "text": [
      "Loss: 2.132736, Train accuracy: 0.206333, val accuracy: 0.218000\n",
      "Loss: 1.706382, Train accuracy: 0.449222, val accuracy: 0.450000\n",
      "Loss: 1.173314, Train accuracy: 0.606000, val accuracy: 0.598000\n",
      "Loss: 0.852998, Train accuracy: 0.631667, val accuracy: 0.624000\n",
      "Loss: 1.109005, Train accuracy: 0.689111, val accuracy: 0.672000\n",
      "Loss: 0.922254, Train accuracy: 0.726778, val accuracy: 0.704000\n",
      "Loss: 1.488328, Train accuracy: 0.736333, val accuracy: 0.695000\n",
      "Loss: 0.881777, Train accuracy: 0.755889, val accuracy: 0.702000\n",
      "Loss: 0.529717, Train accuracy: 0.763556, val accuracy: 0.698000\n",
      "Loss: 1.072395, Train accuracy: 0.780556, val accuracy: 0.717000\n",
      "Loss: 0.466286, Train accuracy: 0.783667, val accuracy: 0.721000\n",
      "Loss: 0.409788, Train accuracy: 0.800444, val accuracy: 0.727000\n",
      "Loss: 0.482072, Train accuracy: 0.819889, val accuracy: 0.732000\n",
      "Loss: 0.551533, Train accuracy: 0.796333, val accuracy: 0.707000\n",
      "Loss: 0.713940, Train accuracy: 0.816667, val accuracy: 0.693000\n",
      "Loss: 0.711819, Train accuracy: 0.782333, val accuracy: 0.699000\n",
      "Loss: 0.382472, Train accuracy: 0.823667, val accuracy: 0.718000\n",
      "Loss: 0.461307, Train accuracy: 0.846111, val accuracy: 0.735000\n",
      "Loss: 0.905866, Train accuracy: 0.846444, val accuracy: 0.728000\n",
      "Loss: 0.960338, Train accuracy: 0.871889, val accuracy: 0.755000\n"
     ]
    }
   ],
   "source": [
    "model = TwoLayerNet(n_input = train_X.shape[1], n_output = 10, hidden_layer_size = 100, reg = 1e-5)\n",
    "dataset = Dataset(train_X, train_y, val_X, val_y)\n",
    "trainer = Trainer(model, dataset, SGD(), learning_rate=1e-1)\n",
    "\n",
    "# TODO Implement missing pieces in Trainer.fit function\n",
    "# You should expect loss to go down and train and val accuracy go up for every epoch\n",
    "loss_history, train_history, val_history = trainer.fit()"
   ]
  },
  {
   "cell_type": "code",
   "execution_count": 24,
   "metadata": {},
   "outputs": [
    {
     "data": {
      "text/plain": [
       "[<matplotlib.lines.Line2D at 0x7f11ae4ac898>]"
      ]
     },
     "execution_count": 24,
     "metadata": {},
     "output_type": "execute_result"
    },
    {
     "data": {
      "image/png": "[encoded data removed]",
      "text/plain": [
       "<Figure size 432x288 with 1 Axes>"
      ]
     },
     "metadata": {},
     "output_type": "display_data"
    }
   ],
   "source": [
    "plt.plot(train_history)\n",
    "plt.plot(val_history)"
   ]
  },
  {
   "cell_type": "markdown",
   "metadata": {},
   "source": [
    "# Улучшаем процесс тренировки\n",
    "\n",
    "Мы реализуем несколько ключевых оптимизаций, необходимых для тренировки современных нейросетей."
   ]
  },
  {
   "cell_type": "markdown",
   "metadata": {},
   "source": [
    "## Уменьшение скорости обучения (learning rate decay)\n",
    "\n",
    "Одна из необходимых оптимизаций во время тренировки нейронных сетей - постепенное уменьшение скорости обучения по мере тренировки.\n",
    "\n",
    "Один из стандартных методов - уменьшение скорости обучения (learning rate) каждые N эпох на коэффициент d (часто называемый decay). Значения N и d, как всегда, являются гиперпараметрами и должны подбираться на основе эффективности на проверочных данных (validation data). \n",
    "\n",
    "В нашем случае N будет равным 1."
   ]
  },
  {
   "cell_type": "code",
   "execution_count": 23,
   "metadata": {},
   "outputs": [
    {
     "name": "stdout",
     "output_type": "stream",
     "text": [
      "Loss: 2.328357, Train accuracy: 0.066333, val accuracy: 0.049000\n",
      "Loss: 2.323940, Train accuracy: 0.066333, val accuracy: 0.049000\n",
      "Loss: 2.320913, Train accuracy: 0.066444, val accuracy: 0.049000\n",
      "Loss: 2.317870, Train accuracy: 0.069000, val accuracy: 0.050000\n",
      "Loss: 2.315318, Train accuracy: 0.077333, val accuracy: 0.060000\n",
      "Loss: 2.313394, Train accuracy: 0.089556, val accuracy: 0.071000\n",
      "Loss: 2.311774, Train accuracy: 0.106000, val accuracy: 0.087000\n",
      "Loss: 2.310560, Train accuracy: 0.119667, val accuracy: 0.114000\n",
      "Loss: 2.309264, Train accuracy: 0.135000, val accuracy: 0.128000\n",
      "Loss: 2.308239, Train accuracy: 0.144333, val accuracy: 0.145000\n",
      "Loss: 2.307401, Train accuracy: 0.155000, val accuracy: 0.157000\n",
      "Loss: 2.306052, Train accuracy: 0.164222, val accuracy: 0.169000\n",
      "Loss: 2.306078, Train accuracy: 0.169111, val accuracy: 0.175000\n",
      "Loss: 2.304994, Train accuracy: 0.174889, val accuracy: 0.173000\n",
      "Loss: 2.305572, Train accuracy: 0.179889, val accuracy: 0.180000\n",
      "Loss: 2.304258, Train accuracy: 0.183667, val accuracy: 0.183000\n",
      "Loss: 2.304437, Train accuracy: 0.186333, val accuracy: 0.184000\n",
      "Loss: 2.304577, Train accuracy: 0.188556, val accuracy: 0.190000\n",
      "Loss: 2.304266, Train accuracy: 0.189889, val accuracy: 0.193000\n",
      "Loss: 2.304459, Train accuracy: 0.191667, val accuracy: 0.196000\n"
     ]
    }
   ],
   "source": [
    "# TODO Implement learning rate decay inside Trainer.fit method\n",
    "# Decay should happen once per epoch\n",
    "\n",
    "model = TwoLayerNet(n_input = train_X.shape[1], n_output = 10, hidden_layer_size = 100, reg = 1e-1)\n",
    "dataset = Dataset(train_X, train_y, val_X, val_y)\n",
    "trainer = Trainer(model, dataset, SGD(), learning_rate_decay=0.99)\n",
    "\n",
    "initial_learning_rate = trainer.learning_rate\n",
    "loss_history, train_history, val_history = trainer.fit()\n",
    "\n",
    "assert trainer.learning_rate < initial_learning_rate, \"Learning rate should've been reduced\"\n",
    "assert trainer.learning_rate > 0.5*initial_learning_rate, \"Learning rate shouldn'tve been reduced that much!\""
   ]
  },
  {
   "cell_type": "markdown",
   "metadata": {},
   "source": [
    "# Накопление импульса (Momentum SGD)\n",
    "\n",
    "Другой большой класс оптимизаций - использование более эффективных методов градиентного спуска. Мы реализуем один из них - накопление импульса (Momentum SGD).\n",
    "\n",
    "Этот метод хранит скорость движения, использует градиент для ее изменения на каждом шаге, и изменяет веса пропорционально значению скорости.\n",
    "(Физическая аналогия: Вместо скорости градиенты теперь будут задавать ускорение, но будет присутствовать сила трения.)\n",
    "\n",
    "```\n",
    "velocity = momentum * velocity - learning_rate * gradient \n",
    "w = w + velocity\n",
    "```\n",
    "\n",
    "`momentum` здесь коэффициент затухания, который тоже является гиперпараметром (к счастью, для него часто есть хорошее значение по умолчанию, типичный диапазон -- 0.8-0.99).\n",
    "\n",
    "Несколько полезных ссылок, где метод разбирается более подробно:  \n",
    "http://cs231n.github.io/neural-networks-3/#sgd  \n",
    "https://distill.pub/2017/momentum/"
   ]
  },
  {
   "cell_type": "code",
   "execution_count": 30,
   "metadata": {},
   "outputs": [
    {
     "name": "stdout",
     "output_type": "stream",
     "text": [
      "Loss: 1.995347, Train accuracy: 0.199444, val accuracy: 0.209000\n",
      "Loss: 2.158018, Train accuracy: 0.400889, val accuracy: 0.380000\n",
      "Loss: 1.779726, Train accuracy: 0.569778, val accuracy: 0.546000\n",
      "Loss: 1.194249, Train accuracy: 0.631556, val accuracy: 0.597000\n",
      "Loss: 1.156375, Train accuracy: 0.657444, val accuracy: 0.647000\n",
      "Loss: 1.104781, Train accuracy: 0.700444, val accuracy: 0.679000\n",
      "Loss: 1.330431, Train accuracy: 0.733000, val accuracy: 0.675000\n",
      "Loss: 1.220190, Train accuracy: 0.712889, val accuracy: 0.680000\n",
      "Loss: 0.767778, Train accuracy: 0.737111, val accuracy: 0.690000\n",
      "Loss: 0.625667, Train accuracy: 0.756667, val accuracy: 0.699000\n",
      "Loss: 1.186762, Train accuracy: 0.768556, val accuracy: 0.726000\n",
      "Loss: 1.630323, Train accuracy: 0.772111, val accuracy: 0.693000\n",
      "Loss: 1.041803, Train accuracy: 0.758444, val accuracy: 0.690000\n",
      "Loss: 0.962623, Train accuracy: 0.768556, val accuracy: 0.692000\n",
      "Loss: 1.299693, Train accuracy: 0.803222, val accuracy: 0.730000\n",
      "Loss: 1.055211, Train accuracy: 0.807222, val accuracy: 0.714000\n",
      "Loss: 0.916563, Train accuracy: 0.799000, val accuracy: 0.718000\n",
      "Loss: 0.894073, Train accuracy: 0.772111, val accuracy: 0.718000\n",
      "Loss: 0.815296, Train accuracy: 0.814444, val accuracy: 0.730000\n",
      "Loss: 1.024234, Train accuracy: 0.794222, val accuracy: 0.718000\n"
     ]
    }
   ],
   "source": [
    "# TODO: Implement MomentumSGD.update function in optim.py\n",
    "\n",
    "model = TwoLayerNet(n_input = train_X.shape[1], n_output = 10, hidden_layer_size = 100, reg = 1e-4)\n",
    "dataset = Dataset(train_X, train_y, val_X, val_y)\n",
    "trainer = Trainer(model, dataset, MomentumSGD(), learning_rate=1e-2, learning_rate_decay=0.95)\n",
    "\n",
    "# You should see even better results than before!\n",
    "loss_history, train_history, val_history = trainer.fit()"
   ]
  },
  {
   "cell_type": "markdown",
   "metadata": {},
   "source": [
    "# Ну что, давайте уже тренировать сеть!"
   ]
  },
  {
   "cell_type": "markdown",
   "metadata": {},
   "source": [
    "## Последний тест - переобучимся (overfit) на маленьком наборе данных\n",
    "\n",
    "Хороший способ проверить, все ли реализовано корректно - переобучить сеть на маленьком наборе данных.  \n",
    "Наша модель обладает достаточной мощностью, чтобы приблизить маленький набор данных идеально, поэтому мы ожидаем, что на нем мы быстро дойдем до 100% точности на тренировочном наборе. \n",
    "\n",
    "Если этого не происходит, то где-то была допущена ошибка!"
   ]
  },
  {
   "cell_type": "code",
   "execution_count": 31,
   "metadata": {},
   "outputs": [
    {
     "name": "stdout",
     "output_type": "stream",
     "text": [
      "Loss: 2.331004, Train accuracy: 0.133333, val accuracy: 0.133333\n",
      "Loss: 2.327283, Train accuracy: 0.200000, val accuracy: 0.066667\n",
      "Loss: 2.324905, Train accuracy: 0.266667, val accuracy: 0.066667\n",
      "Loss: 2.321032, Train accuracy: 0.400000, val accuracy: 0.066667\n",
      "Loss: 2.319592, Train accuracy: 0.400000, val accuracy: 0.066667\n",
      "Loss: 2.311091, Train accuracy: 0.333333, val accuracy: 0.000000\n",
      "Loss: 2.302504, Train accuracy: 0.333333, val accuracy: 0.000000\n",
      "Loss: 2.226704, Train accuracy: 0.333333, val accuracy: 0.000000\n",
      "Loss: 2.059826, Train accuracy: 0.333333, val accuracy: 0.000000\n",
      "Loss: 1.958393, Train accuracy: 0.333333, val accuracy: 0.000000\n",
      "Loss: 2.444431, Train accuracy: 0.333333, val accuracy: 0.000000\n",
      "Loss: 1.892370, Train accuracy: 0.333333, val accuracy: 0.000000\n",
      "Loss: 1.709634, Train accuracy: 0.333333, val accuracy: 0.000000\n",
      "Loss: 1.722649, Train accuracy: 0.333333, val accuracy: 0.000000\n",
      "Loss: 2.381627, Train accuracy: 0.333333, val accuracy: 0.000000\n",
      "Loss: 1.539125, Train accuracy: 0.333333, val accuracy: 0.000000\n",
      "Loss: 1.748773, Train accuracy: 0.400000, val accuracy: 0.000000\n",
      "Loss: 1.710514, Train accuracy: 0.333333, val accuracy: 0.000000\n",
      "Loss: 2.202204, Train accuracy: 0.400000, val accuracy: 0.000000\n",
      "Loss: 2.063325, Train accuracy: 0.400000, val accuracy: 0.000000\n",
      "Loss: 1.977666, Train accuracy: 0.400000, val accuracy: 0.000000\n",
      "Loss: 2.159844, Train accuracy: 0.400000, val accuracy: 0.000000\n",
      "Loss: 2.392753, Train accuracy: 0.400000, val accuracy: 0.000000\n",
      "Loss: 1.448505, Train accuracy: 0.466667, val accuracy: 0.000000\n",
      "Loss: 2.002897, Train accuracy: 0.400000, val accuracy: 0.000000\n",
      "Loss: 2.206594, Train accuracy: 0.466667, val accuracy: 0.000000\n",
      "Loss: 1.663369, Train accuracy: 0.466667, val accuracy: 0.000000\n",
      "Loss: 2.060343, Train accuracy: 0.466667, val accuracy: 0.000000\n",
      "Loss: 2.433015, Train accuracy: 0.466667, val accuracy: 0.000000\n",
      "Loss: 1.806392, Train accuracy: 0.466667, val accuracy: 0.000000\n",
      "Loss: 2.142241, Train accuracy: 0.533333, val accuracy: 0.000000\n",
      "Loss: 1.289945, Train accuracy: 0.533333, val accuracy: 0.000000\n",
      "Loss: 2.100367, Train accuracy: 0.533333, val accuracy: 0.000000\n",
      "Loss: 1.997894, Train accuracy: 0.533333, val accuracy: 0.000000\n",
      "Loss: 1.723835, Train accuracy: 0.466667, val accuracy: 0.000000\n",
      "Loss: 1.383973, Train accuracy: 0.600000, val accuracy: 0.000000\n",
      "Loss: 2.094962, Train accuracy: 0.600000, val accuracy: 0.000000\n",
      "Loss: 1.783919, Train accuracy: 0.600000, val accuracy: 0.000000\n",
      "Loss: 1.883621, Train accuracy: 0.533333, val accuracy: 0.000000\n",
      "Loss: 1.098452, Train accuracy: 0.600000, val accuracy: 0.000000\n",
      "Loss: 1.761983, Train accuracy: 0.600000, val accuracy: 0.000000\n",
      "Loss: 1.519063, Train accuracy: 0.600000, val accuracy: 0.000000\n",
      "Loss: 1.552314, Train accuracy: 0.600000, val accuracy: 0.000000\n",
      "Loss: 1.313971, Train accuracy: 0.666667, val accuracy: 0.000000\n",
      "Loss: 1.332430, Train accuracy: 0.600000, val accuracy: 0.000000\n",
      "Loss: 1.657437, Train accuracy: 0.600000, val accuracy: 0.000000\n",
      "Loss: 1.917121, Train accuracy: 0.666667, val accuracy: 0.000000\n",
      "Loss: 1.297976, Train accuracy: 0.666667, val accuracy: 0.000000\n",
      "Loss: 1.817118, Train accuracy: 0.666667, val accuracy: 0.000000\n",
      "Loss: 1.134872, Train accuracy: 0.666667, val accuracy: 0.000000\n",
      "Loss: 1.218824, Train accuracy: 0.733333, val accuracy: 0.000000\n",
      "Loss: 1.645267, Train accuracy: 0.733333, val accuracy: 0.000000\n",
      "Loss: 1.636244, Train accuracy: 0.733333, val accuracy: 0.066667\n",
      "Loss: 1.258910, Train accuracy: 0.733333, val accuracy: 0.000000\n",
      "Loss: 1.455599, Train accuracy: 0.733333, val accuracy: 0.000000\n",
      "Loss: 1.579788, Train accuracy: 0.733333, val accuracy: 0.066667\n",
      "Loss: 1.217248, Train accuracy: 0.733333, val accuracy: 0.000000\n",
      "Loss: 1.457078, Train accuracy: 0.733333, val accuracy: 0.066667\n",
      "Loss: 1.600790, Train accuracy: 0.733333, val accuracy: 0.066667\n",
      "Loss: 1.669229, Train accuracy: 0.733333, val accuracy: 0.000000\n",
      "Loss: 0.917808, Train accuracy: 0.733333, val accuracy: 0.066667\n",
      "Loss: 1.465690, Train accuracy: 0.733333, val accuracy: 0.000000\n",
      "Loss: 1.005962, Train accuracy: 0.733333, val accuracy: 0.000000\n",
      "Loss: 1.679868, Train accuracy: 0.733333, val accuracy: 0.066667\n",
      "Loss: 1.280500, Train accuracy: 0.733333, val accuracy: 0.066667\n",
      "Loss: 1.713962, Train accuracy: 0.733333, val accuracy: 0.066667\n",
      "Loss: 1.085344, Train accuracy: 0.733333, val accuracy: 0.066667\n",
      "Loss: 1.762038, Train accuracy: 0.733333, val accuracy: 0.066667\n",
      "Loss: 1.434318, Train accuracy: 0.733333, val accuracy: 0.066667\n",
      "Loss: 0.948187, Train accuracy: 0.733333, val accuracy: 0.066667\n",
      "Loss: 1.322659, Train accuracy: 0.733333, val accuracy: 0.066667\n",
      "Loss: 0.891033, Train accuracy: 0.733333, val accuracy: 0.066667\n",
      "Loss: 1.979006, Train accuracy: 0.733333, val accuracy: 0.066667\n",
      "Loss: 1.357282, Train accuracy: 0.733333, val accuracy: 0.066667\n",
      "Loss: 1.004316, Train accuracy: 0.733333, val accuracy: 0.066667\n",
      "Loss: 1.274589, Train accuracy: 0.733333, val accuracy: 0.066667\n",
      "Loss: 1.252577, Train accuracy: 0.733333, val accuracy: 0.066667\n",
      "Loss: 1.308162, Train accuracy: 0.733333, val accuracy: 0.066667\n",
      "Loss: 0.944258, Train accuracy: 0.733333, val accuracy: 0.066667\n",
      "Loss: 1.597590, Train accuracy: 0.733333, val accuracy: 0.000000\n",
      "Loss: 1.207257, Train accuracy: 0.733333, val accuracy: 0.066667\n",
      "Loss: 1.667115, Train accuracy: 0.733333, val accuracy: 0.066667\n",
      "Loss: 1.187175, Train accuracy: 0.800000, val accuracy: 0.066667\n",
      "Loss: 1.982105, Train accuracy: 0.800000, val accuracy: 0.000000\n",
      "Loss: 0.938884, Train accuracy: 0.800000, val accuracy: 0.066667\n",
      "Loss: 1.310287, Train accuracy: 0.800000, val accuracy: 0.066667\n",
      "Loss: 0.999722, Train accuracy: 0.800000, val accuracy: 0.066667\n",
      "Loss: 1.388853, Train accuracy: 0.800000, val accuracy: 0.066667\n",
      "Loss: 1.657266, Train accuracy: 0.800000, val accuracy: 0.066667\n",
      "Loss: 2.145398, Train accuracy: 0.800000, val accuracy: 0.066667\n",
      "Loss: 1.555274, Train accuracy: 0.800000, val accuracy: 0.066667\n",
      "Loss: 1.910481, Train accuracy: 0.800000, val accuracy: 0.066667\n",
      "Loss: 1.995286, Train accuracy: 0.800000, val accuracy: 0.066667\n",
      "Loss: 1.725586, Train accuracy: 0.800000, val accuracy: 0.066667\n",
      "Loss: 0.939092, Train accuracy: 0.800000, val accuracy: 0.066667\n",
      "Loss: 1.566862, Train accuracy: 0.800000, val accuracy: 0.066667\n",
      "Loss: 1.958960, Train accuracy: 0.800000, val accuracy: 0.066667\n",
      "Loss: 1.320399, Train accuracy: 0.800000, val accuracy: 0.066667\n",
      "Loss: 1.253125, Train accuracy: 0.800000, val accuracy: 0.066667\n",
      "Loss: 1.420438, Train accuracy: 0.800000, val accuracy: 0.066667\n",
      "Loss: 1.558136, Train accuracy: 0.800000, val accuracy: 0.066667\n",
      "Loss: 1.255333, Train accuracy: 0.800000, val accuracy: 0.066667\n",
      "Loss: 1.136512, Train accuracy: 0.800000, val accuracy: 0.066667\n",
      "Loss: 1.411355, Train accuracy: 0.800000, val accuracy: 0.066667\n",
      "Loss: 1.197200, Train accuracy: 0.866667, val accuracy: 0.066667\n",
      "Loss: 1.050762, Train accuracy: 0.866667, val accuracy: 0.066667\n",
      "Loss: 1.279292, Train accuracy: 0.866667, val accuracy: 0.066667\n",
      "Loss: 1.653295, Train accuracy: 0.866667, val accuracy: 0.000000\n",
      "Loss: 1.690725, Train accuracy: 0.866667, val accuracy: 0.066667\n",
      "Loss: 1.881101, Train accuracy: 0.933333, val accuracy: 0.066667\n",
      "Loss: 1.846254, Train accuracy: 0.933333, val accuracy: 0.066667\n",
      "Loss: 1.105455, Train accuracy: 0.933333, val accuracy: 0.066667\n",
      "Loss: 1.191835, Train accuracy: 1.000000, val accuracy: 0.066667\n",
      "Loss: 1.280623, Train accuracy: 1.000000, val accuracy: 0.066667\n",
      "Loss: 0.959778, Train accuracy: 1.000000, val accuracy: 0.066667\n",
      "Loss: 1.230017, Train accuracy: 1.000000, val accuracy: 0.066667\n",
      "Loss: 1.513561, Train accuracy: 1.000000, val accuracy: 0.066667\n",
      "Loss: 1.427216, Train accuracy: 1.000000, val accuracy: 0.066667\n",
      "Loss: 1.598600, Train accuracy: 1.000000, val accuracy: 0.066667\n",
      "Loss: 1.212628, Train accuracy: 1.000000, val accuracy: 0.066667\n",
      "Loss: 1.416603, Train accuracy: 1.000000, val accuracy: 0.066667\n",
      "Loss: 1.270125, Train accuracy: 1.000000, val accuracy: 0.066667\n",
      "Loss: 1.153187, Train accuracy: 1.000000, val accuracy: 0.066667\n",
      "Loss: 1.150011, Train accuracy: 1.000000, val accuracy: 0.066667\n",
      "Loss: 1.756025, Train accuracy: 1.000000, val accuracy: 0.066667\n",
      "Loss: 1.161683, Train accuracy: 1.000000, val accuracy: 0.066667\n",
      "Loss: 1.321944, Train accuracy: 1.000000, val accuracy: 0.066667\n"
     ]
    },
    {
     "name": "stdout",
     "output_type": "stream",
     "text": [
      "Loss: 1.617141, Train accuracy: 1.000000, val accuracy: 0.066667\n",
      "Loss: 1.508658, Train accuracy: 1.000000, val accuracy: 0.066667\n",
      "Loss: 1.439227, Train accuracy: 1.000000, val accuracy: 0.066667\n",
      "Loss: 1.382313, Train accuracy: 1.000000, val accuracy: 0.066667\n",
      "Loss: 1.592677, Train accuracy: 1.000000, val accuracy: 0.066667\n",
      "Loss: 1.210300, Train accuracy: 1.000000, val accuracy: 0.066667\n",
      "Loss: 1.438965, Train accuracy: 1.000000, val accuracy: 0.066667\n",
      "Loss: 1.080726, Train accuracy: 1.000000, val accuracy: 0.066667\n",
      "Loss: 1.348016, Train accuracy: 1.000000, val accuracy: 0.066667\n",
      "Loss: 1.162155, Train accuracy: 1.000000, val accuracy: 0.000000\n",
      "Loss: 1.436021, Train accuracy: 1.000000, val accuracy: 0.066667\n",
      "Loss: 1.257594, Train accuracy: 1.000000, val accuracy: 0.000000\n",
      "Loss: 1.280948, Train accuracy: 1.000000, val accuracy: 0.000000\n",
      "Loss: 1.319300, Train accuracy: 1.000000, val accuracy: 0.000000\n",
      "Loss: 1.266324, Train accuracy: 1.000000, val accuracy: 0.000000\n",
      "Loss: 1.473630, Train accuracy: 1.000000, val accuracy: 0.000000\n",
      "Loss: 1.270962, Train accuracy: 1.000000, val accuracy: 0.000000\n",
      "Loss: 1.362806, Train accuracy: 1.000000, val accuracy: 0.000000\n",
      "Loss: 1.509459, Train accuracy: 1.000000, val accuracy: 0.000000\n",
      "Loss: 1.144602, Train accuracy: 1.000000, val accuracy: 0.000000\n",
      "Loss: 1.367329, Train accuracy: 1.000000, val accuracy: 0.000000\n",
      "Loss: 1.253612, Train accuracy: 1.000000, val accuracy: 0.000000\n",
      "Loss: 1.352085, Train accuracy: 1.000000, val accuracy: 0.000000\n"
     ]
    }
   ],
   "source": [
    "data_size = 15\n",
    "model = TwoLayerNet(n_input = train_X.shape[1], n_output = 10, hidden_layer_size = 100, reg = 1e-1)\n",
    "dataset = Dataset(train_X[:data_size], train_y[:data_size], val_X[:data_size], val_y[:data_size])\n",
    "trainer = Trainer(model, dataset, SGD(), learning_rate=1e-1, num_epochs=150, batch_size=5)\n",
    "\n",
    "# You should expect this to reach 1.0 training accuracy \n",
    "loss_history, train_history, val_history = trainer.fit()"
   ]
  },
  {
   "cell_type": "markdown",
   "metadata": {},
   "source": [
    "Теперь найдем гипепараметры, для которых этот процесс сходится быстрее.\n",
    "Если все реализовано корректно, то существуют параметры, при которых процесс сходится в **20** эпох или еще быстрее.\n",
    "Найдите их!"
   ]
  },
  {
   "cell_type": "code",
   "execution_count": 61,
   "metadata": {},
   "outputs": [
    {
     "name": "stdout",
     "output_type": "stream",
     "text": [
      "Loss: 2.302569, Train accuracy: 0.266667, val accuracy: 0.066667\n",
      "Loss: 2.301365, Train accuracy: 0.400000, val accuracy: 0.000000\n",
      "Loss: 2.289257, Train accuracy: 0.333333, val accuracy: 0.000000\n",
      "Loss: 2.244211, Train accuracy: 0.333333, val accuracy: 0.000000\n",
      "Loss: 1.935775, Train accuracy: 0.333333, val accuracy: 0.000000\n",
      "Loss: 2.649792, Train accuracy: 0.266667, val accuracy: 0.000000\n",
      "Loss: 3.173548, Train accuracy: 0.266667, val accuracy: 0.133333\n",
      "Loss: 2.289431, Train accuracy: 0.466667, val accuracy: 0.000000\n",
      "Loss: 1.001192, Train accuracy: 0.466667, val accuracy: 0.000000\n",
      "Loss: 2.449626, Train accuracy: 0.600000, val accuracy: 0.066667\n",
      "Loss: 0.433407, Train accuracy: 0.733333, val accuracy: 0.000000\n",
      "Loss: 0.804796, Train accuracy: 0.933333, val accuracy: 0.066667\n",
      "Loss: 0.506405, Train accuracy: 1.000000, val accuracy: 0.066667\n",
      "Loss: 0.024663, Train accuracy: 1.000000, val accuracy: 0.000000\n",
      "Loss: 0.048753, Train accuracy: 1.000000, val accuracy: 0.000000\n",
      "Loss: 0.004166, Train accuracy: 1.000000, val accuracy: 0.000000\n",
      "Loss: 0.003657, Train accuracy: 1.000000, val accuracy: 0.000000\n",
      "Loss: 0.002614, Train accuracy: 1.000000, val accuracy: 0.000000\n",
      "Loss: 0.001585, Train accuracy: 1.000000, val accuracy: 0.000000\n",
      "Loss: 0.001874, Train accuracy: 1.000000, val accuracy: 0.000000\n"
     ]
    }
   ],
   "source": [
    "# Now, tweak some hyper parameters and make it train to 1.0 accuracy in 20 epochs or less\n",
    "\n",
    "model = TwoLayerNet(n_input = train_X.shape[1], n_output = 10, hidden_layer_size = 100, reg = 1e-5)\n",
    "dataset = Dataset(train_X[:data_size], train_y[:data_size], val_X[:data_size], val_y[:data_size])\n",
    "# TODO: Change any hyperparamers or optimizators to reach training accuracy in 20 epochs\n",
    "trainer = Trainer(model, dataset, MomentumSGD(), learning_rate=1e-1, num_epochs=20, batch_size=5)\n",
    "\n",
    "loss_history, train_history, val_history = trainer.fit()"
   ]
  },
  {
   "cell_type": "markdown",
   "metadata": {},
   "source": [
    "# Итак, основное мероприятие!\n",
    "\n",
    "Натренируйте лучшую нейросеть! Можно добавлять и изменять параметры, менять количество нейронов в слоях сети и как угодно экспериментировать. \n",
    "\n",
    "Добейтесь точности лучше **40%** на validation set."
   ]
  },
  {
   "cell_type": "code",
   "execution_count": 76,
   "metadata": {
    "scrolled": true
   },
   "outputs": [
    {
     "name": "stdout",
     "output_type": "stream",
     "text": [
      "Loss: 1.987029, Train accuracy: 0.282222, val accuracy: 0.296000\n",
      "Loss: 1.639201, Train accuracy: 0.480333, val accuracy: 0.472000\n",
      "Loss: 1.349648, Train accuracy: 0.537556, val accuracy: 0.540000\n",
      "Loss: 1.287120, Train accuracy: 0.535444, val accuracy: 0.527000\n",
      "Loss: 1.950316, Train accuracy: 0.531889, val accuracy: 0.517000\n",
      "Loss: 0.948959, Train accuracy: 0.665667, val accuracy: 0.625000\n",
      "Loss: 1.380003, Train accuracy: 0.654111, val accuracy: 0.656000\n",
      "Loss: 1.690716, Train accuracy: 0.666556, val accuracy: 0.622000\n",
      "Loss: 1.031543, Train accuracy: 0.724111, val accuracy: 0.682000\n",
      "Loss: 0.977143, Train accuracy: 0.707667, val accuracy: 0.623000\n",
      "Loss: 1.239279, Train accuracy: 0.688111, val accuracy: 0.644000\n",
      "Loss: 0.666060, Train accuracy: 0.767222, val accuracy: 0.704000\n",
      "Loss: 0.807289, Train accuracy: 0.772000, val accuracy: 0.703000\n",
      "Loss: 0.906151, Train accuracy: 0.793000, val accuracy: 0.705000\n",
      "Loss: 0.975692, Train accuracy: 0.782778, val accuracy: 0.708000\n",
      "Loss: 0.897738, Train accuracy: 0.759000, val accuracy: 0.684000\n",
      "Loss: 0.973635, Train accuracy: 0.778111, val accuracy: 0.687000\n",
      "Loss: 0.814966, Train accuracy: 0.840667, val accuracy: 0.743000\n",
      "Loss: 0.514135, Train accuracy: 0.795667, val accuracy: 0.698000\n",
      "Loss: 0.956268, Train accuracy: 0.754778, val accuracy: 0.660000\n",
      "Loss: 1.523550, Train accuracy: 0.768000, val accuracy: 0.679000\n",
      "Loss: 0.771681, Train accuracy: 0.776333, val accuracy: 0.657000\n",
      "Loss: 2.142388, Train accuracy: 0.645444, val accuracy: 0.592000\n",
      "Loss: 0.521431, Train accuracy: 0.857000, val accuracy: 0.740000\n",
      "Loss: 1.162090, Train accuracy: 0.783333, val accuracy: 0.671000\n",
      "Loss: 0.564457, Train accuracy: 0.824000, val accuracy: 0.716000\n",
      "Loss: 1.075806, Train accuracy: 0.809667, val accuracy: 0.687000\n",
      "Loss: 0.753080, Train accuracy: 0.821667, val accuracy: 0.696000\n",
      "Loss: 0.621985, Train accuracy: 0.823222, val accuracy: 0.699000\n",
      "Loss: 0.779755, Train accuracy: 0.843556, val accuracy: 0.693000\n",
      "Loss: 0.700079, Train accuracy: 0.820778, val accuracy: 0.689000\n",
      "Loss: 0.413169, Train accuracy: 0.853778, val accuracy: 0.718000\n",
      "Loss: 0.625097, Train accuracy: 0.896778, val accuracy: 0.741000\n",
      "Loss: 1.887517, Train accuracy: 0.656111, val accuracy: 0.577000\n",
      "Loss: 0.669191, Train accuracy: 0.858444, val accuracy: 0.727000\n",
      "Loss: 0.613879, Train accuracy: 0.865111, val accuracy: 0.729000\n",
      "Loss: 0.883174, Train accuracy: 0.805556, val accuracy: 0.668000\n",
      "Loss: 0.583720, Train accuracy: 0.800444, val accuracy: 0.689000\n",
      "Loss: 0.578478, Train accuracy: 0.892333, val accuracy: 0.732000\n",
      "Loss: 0.699945, Train accuracy: 0.821333, val accuracy: 0.695000\n",
      "Loss: 0.622085, Train accuracy: 0.882222, val accuracy: 0.743000\n",
      "Loss: 0.823755, Train accuracy: 0.820333, val accuracy: 0.689000\n",
      "Loss: 0.795229, Train accuracy: 0.848111, val accuracy: 0.714000\n",
      "Loss: 1.012840, Train accuracy: 0.765889, val accuracy: 0.646000\n",
      "Loss: 0.761919, Train accuracy: 0.883778, val accuracy: 0.735000\n",
      "Loss: 0.649919, Train accuracy: 0.840556, val accuracy: 0.701000\n",
      "Loss: 0.508267, Train accuracy: 0.851444, val accuracy: 0.712000\n",
      "Loss: 0.587838, Train accuracy: 0.893333, val accuracy: 0.727000\n",
      "Loss: 0.472393, Train accuracy: 0.892222, val accuracy: 0.743000\n",
      "Loss: 1.254760, Train accuracy: 0.850111, val accuracy: 0.710000\n",
      "Loss: 0.580958, Train accuracy: 0.864000, val accuracy: 0.717000\n",
      "Loss: 0.631423, Train accuracy: 0.897778, val accuracy: 0.740000\n",
      "Loss: 0.546210, Train accuracy: 0.927111, val accuracy: 0.745000\n",
      "Loss: 0.451816, Train accuracy: 0.925778, val accuracy: 0.750000\n",
      "Loss: 0.914163, Train accuracy: 0.819000, val accuracy: 0.670000\n",
      "Loss: 1.018549, Train accuracy: 0.856333, val accuracy: 0.704000\n",
      "Loss: 0.769942, Train accuracy: 0.762778, val accuracy: 0.642000\n",
      "Loss: 0.540768, Train accuracy: 0.877778, val accuracy: 0.714000\n",
      "Loss: 0.600598, Train accuracy: 0.875333, val accuracy: 0.725000\n",
      "Loss: 0.882144, Train accuracy: 0.886000, val accuracy: 0.724000\n",
      "Loss: 0.916299, Train accuracy: 0.856333, val accuracy: 0.701000\n",
      "Loss: 0.516099, Train accuracy: 0.912444, val accuracy: 0.751000\n",
      "Loss: 0.765611, Train accuracy: 0.910889, val accuracy: 0.724000\n",
      "Loss: 0.519617, Train accuracy: 0.920778, val accuracy: 0.745000\n",
      "Loss: 0.812017, Train accuracy: 0.873444, val accuracy: 0.703000\n",
      "Loss: 1.581179, Train accuracy: 0.685667, val accuracy: 0.586000\n",
      "Loss: 0.590527, Train accuracy: 0.908000, val accuracy: 0.737000\n",
      "Loss: 0.387930, Train accuracy: 0.934556, val accuracy: 0.755000\n",
      "Loss: 0.679316, Train accuracy: 0.892667, val accuracy: 0.733000\n",
      "Loss: 0.551017, Train accuracy: 0.907000, val accuracy: 0.725000\n",
      "Loss: 0.725565, Train accuracy: 0.911111, val accuracy: 0.732000\n",
      "Loss: 0.432963, Train accuracy: 0.895222, val accuracy: 0.719000\n",
      "Loss: 0.604352, Train accuracy: 0.862444, val accuracy: 0.688000\n",
      "Loss: 0.818420, Train accuracy: 0.918556, val accuracy: 0.733000\n",
      "Loss: 0.513460, Train accuracy: 0.879778, val accuracy: 0.725000\n",
      "Loss: 0.907750, Train accuracy: 0.838667, val accuracy: 0.698000\n",
      "Loss: 0.387841, Train accuracy: 0.917556, val accuracy: 0.711000\n",
      "Loss: 0.747741, Train accuracy: 0.926000, val accuracy: 0.737000\n",
      "Loss: 0.381375, Train accuracy: 0.928111, val accuracy: 0.744000\n",
      "Loss: 0.474883, Train accuracy: 0.906333, val accuracy: 0.723000\n",
      "Loss: 2.957818, Train accuracy: 0.667222, val accuracy: 0.564000\n",
      "Loss: 0.471219, Train accuracy: 0.933889, val accuracy: 0.749000\n",
      "Loss: 0.856007, Train accuracy: 0.849889, val accuracy: 0.699000\n",
      "Loss: 0.614793, Train accuracy: 0.930778, val accuracy: 0.741000\n",
      "Loss: 0.588991, Train accuracy: 0.918000, val accuracy: 0.741000\n",
      "Loss: 0.462185, Train accuracy: 0.933000, val accuracy: 0.744000\n",
      "Loss: 0.534459, Train accuracy: 0.928444, val accuracy: 0.734000\n",
      "Loss: 0.767203, Train accuracy: 0.901667, val accuracy: 0.709000\n",
      "Loss: 0.611294, Train accuracy: 0.900889, val accuracy: 0.742000\n",
      "Loss: 0.468989, Train accuracy: 0.944000, val accuracy: 0.756000\n",
      "Loss: 0.473512, Train accuracy: 0.930000, val accuracy: 0.744000\n",
      "Loss: 0.578236, Train accuracy: 0.912556, val accuracy: 0.718000\n",
      "Loss: 0.477593, Train accuracy: 0.952444, val accuracy: 0.766000\n",
      "Loss: 0.450639, Train accuracy: 0.954889, val accuracy: 0.750000\n",
      "Loss: 0.572298, Train accuracy: 0.846222, val accuracy: 0.673000\n",
      "Loss: 0.620223, Train accuracy: 0.887333, val accuracy: 0.723000\n",
      "Loss: 0.762501, Train accuracy: 0.877111, val accuracy: 0.715000\n",
      "Loss: 0.546561, Train accuracy: 0.916778, val accuracy: 0.744000\n",
      "Loss: 0.662099, Train accuracy: 0.900444, val accuracy: 0.719000\n",
      "Loss: 0.574311, Train accuracy: 0.928444, val accuracy: 0.734000\n",
      "Loss: 3.521654, Train accuracy: 0.596333, val accuracy: 0.512000\n",
      "Loss: 0.820276, Train accuracy: 0.848556, val accuracy: 0.696000\n",
      "Loss: 0.576308, Train accuracy: 0.920556, val accuracy: 0.735000\n",
      "Loss: 0.459692, Train accuracy: 0.908111, val accuracy: 0.722000\n",
      "Loss: 0.387763, Train accuracy: 0.927333, val accuracy: 0.741000\n",
      "Loss: 0.416847, Train accuracy: 0.908778, val accuracy: 0.724000\n",
      "Loss: 0.608750, Train accuracy: 0.921556, val accuracy: 0.740000\n",
      "Loss: 0.494758, Train accuracy: 0.949111, val accuracy: 0.755000\n",
      "Loss: 0.516327, Train accuracy: 0.888889, val accuracy: 0.719000\n",
      "Loss: 0.646774, Train accuracy: 0.942444, val accuracy: 0.748000\n",
      "Loss: 0.514529, Train accuracy: 0.938444, val accuracy: 0.754000\n",
      "Loss: 0.439466, Train accuracy: 0.952889, val accuracy: 0.747000\n",
      "Loss: 0.537352, Train accuracy: 0.853889, val accuracy: 0.694000\n",
      "Loss: 0.572197, Train accuracy: 0.837444, val accuracy: 0.678000\n",
      "Loss: 0.475603, Train accuracy: 0.947111, val accuracy: 0.765000\n",
      "Loss: 0.937861, Train accuracy: 0.876667, val accuracy: 0.708000\n",
      "Loss: 0.573634, Train accuracy: 0.923111, val accuracy: 0.743000\n",
      "Loss: 0.446598, Train accuracy: 0.958667, val accuracy: 0.755000\n",
      "Loss: 1.293391, Train accuracy: 0.793222, val accuracy: 0.656000\n",
      "Loss: 0.480925, Train accuracy: 0.885667, val accuracy: 0.720000\n",
      "Loss: 0.672161, Train accuracy: 0.922778, val accuracy: 0.725000\n",
      "Loss: 1.409150, Train accuracy: 0.780889, val accuracy: 0.649000\n",
      "Loss: 0.628932, Train accuracy: 0.928667, val accuracy: 0.737000\n",
      "Loss: 0.516410, Train accuracy: 0.935889, val accuracy: 0.744000\n",
      "Loss: 0.535303, Train accuracy: 0.925889, val accuracy: 0.742000\n",
      "Loss: 1.016591, Train accuracy: 0.844111, val accuracy: 0.702000\n",
      "Loss: 0.507019, Train accuracy: 0.938444, val accuracy: 0.762000\n"
     ]
    },
    {
     "name": "stdout",
     "output_type": "stream",
     "text": [
      "Loss: 0.477923, Train accuracy: 0.932889, val accuracy: 0.753000\n",
      "Loss: 0.560061, Train accuracy: 0.939556, val accuracy: 0.741000\n",
      "Loss: 0.565312, Train accuracy: 0.925222, val accuracy: 0.747000\n",
      "Loss: 0.616300, Train accuracy: 0.942444, val accuracy: 0.738000\n",
      "Loss: 0.508661, Train accuracy: 0.906333, val accuracy: 0.724000\n",
      "Loss: 3.308491, Train accuracy: 0.567778, val accuracy: 0.513000\n",
      "Loss: 0.789541, Train accuracy: 0.860889, val accuracy: 0.697000\n",
      "Loss: 0.408807, Train accuracy: 0.952556, val accuracy: 0.748000\n",
      "Loss: 0.581991, Train accuracy: 0.941778, val accuracy: 0.747000\n",
      "Loss: 0.685436, Train accuracy: 0.904556, val accuracy: 0.728000\n",
      "Loss: 0.507439, Train accuracy: 0.932556, val accuracy: 0.730000\n",
      "Loss: 1.479958, Train accuracy: 0.729444, val accuracy: 0.596000\n",
      "Loss: 0.442796, Train accuracy: 0.955444, val accuracy: 0.760000\n",
      "Loss: 0.488966, Train accuracy: 0.936667, val accuracy: 0.747000\n",
      "Loss: 0.535989, Train accuracy: 0.944889, val accuracy: 0.748000\n",
      "Loss: 0.574182, Train accuracy: 0.943333, val accuracy: 0.747000\n",
      "Loss: 0.839851, Train accuracy: 0.872889, val accuracy: 0.692000\n",
      "Loss: 0.463268, Train accuracy: 0.918333, val accuracy: 0.733000\n",
      "Loss: 0.840260, Train accuracy: 0.845333, val accuracy: 0.692000\n",
      "Loss: 0.430434, Train accuracy: 0.962111, val accuracy: 0.755000\n",
      "Loss: 0.496634, Train accuracy: 0.919000, val accuracy: 0.746000\n",
      "Loss: 0.762268, Train accuracy: 0.881889, val accuracy: 0.694000\n",
      "Loss: 0.445096, Train accuracy: 0.964000, val accuracy: 0.765000\n",
      "Loss: 0.405147, Train accuracy: 0.951000, val accuracy: 0.758000\n",
      "Loss: 0.752948, Train accuracy: 0.884667, val accuracy: 0.721000\n",
      "Loss: 0.493850, Train accuracy: 0.951000, val accuracy: 0.740000\n",
      "Loss: 0.458740, Train accuracy: 0.952667, val accuracy: 0.737000\n",
      "Loss: 0.445632, Train accuracy: 0.931222, val accuracy: 0.741000\n",
      "Loss: 0.542834, Train accuracy: 0.916222, val accuracy: 0.726000\n",
      "Loss: 0.445309, Train accuracy: 0.959000, val accuracy: 0.733000\n",
      "Loss: 0.404048, Train accuracy: 0.956444, val accuracy: 0.740000\n",
      "Loss: 0.369177, Train accuracy: 0.972000, val accuracy: 0.755000\n",
      "Loss: 1.256438, Train accuracy: 0.843667, val accuracy: 0.701000\n",
      "Loss: 0.550576, Train accuracy: 0.927778, val accuracy: 0.736000\n",
      "Loss: 0.623368, Train accuracy: 0.925889, val accuracy: 0.719000\n",
      "Loss: 0.429626, Train accuracy: 0.936333, val accuracy: 0.739000\n",
      "Loss: 0.396218, Train accuracy: 0.922444, val accuracy: 0.739000\n",
      "Loss: 0.595819, Train accuracy: 0.959222, val accuracy: 0.758000\n",
      "Loss: 3.678155, Train accuracy: 0.524333, val accuracy: 0.469000\n",
      "Loss: 0.456673, Train accuracy: 0.939333, val accuracy: 0.737000\n",
      "Loss: 0.550960, Train accuracy: 0.933667, val accuracy: 0.745000\n",
      "Loss: 0.783205, Train accuracy: 0.867444, val accuracy: 0.701000\n",
      "Loss: 0.432762, Train accuracy: 0.954000, val accuracy: 0.738000\n",
      "Loss: 0.436910, Train accuracy: 0.937222, val accuracy: 0.742000\n",
      "Loss: 0.349934, Train accuracy: 0.939556, val accuracy: 0.735000\n",
      "Loss: 1.025199, Train accuracy: 0.821667, val accuracy: 0.683000\n",
      "Loss: 0.913409, Train accuracy: 0.824889, val accuracy: 0.694000\n",
      "Loss: 0.515235, Train accuracy: 0.963111, val accuracy: 0.749000\n",
      "Loss: 0.445670, Train accuracy: 0.945000, val accuracy: 0.742000\n",
      "Loss: 0.544750, Train accuracy: 0.925222, val accuracy: 0.729000\n",
      "Loss: 0.576968, Train accuracy: 0.950333, val accuracy: 0.766000\n",
      "Loss: 0.546660, Train accuracy: 0.874778, val accuracy: 0.709000\n",
      "Loss: 0.523533, Train accuracy: 0.878222, val accuracy: 0.706000\n",
      "Loss: 0.654628, Train accuracy: 0.877333, val accuracy: 0.701000\n",
      "Loss: 0.649795, Train accuracy: 0.956333, val accuracy: 0.752000\n",
      "Loss: 0.521439, Train accuracy: 0.902444, val accuracy: 0.733000\n",
      "Loss: 0.569322, Train accuracy: 0.896556, val accuracy: 0.709000\n",
      "Loss: 0.487203, Train accuracy: 0.906667, val accuracy: 0.724000\n",
      "Loss: 0.464141, Train accuracy: 0.924556, val accuracy: 0.739000\n",
      "Loss: 0.842780, Train accuracy: 0.916667, val accuracy: 0.720000\n",
      "Loss: 0.594408, Train accuracy: 0.967778, val accuracy: 0.756000\n",
      "Loss: 0.576745, Train accuracy: 0.883000, val accuracy: 0.707000\n",
      "Loss: 0.512967, Train accuracy: 0.956667, val accuracy: 0.754000\n",
      "Loss: 0.596536, Train accuracy: 0.932000, val accuracy: 0.739000\n",
      "Loss: 0.818219, Train accuracy: 0.774444, val accuracy: 0.636000\n",
      "Loss: 0.479482, Train accuracy: 0.928667, val accuracy: 0.756000\n",
      "Loss: 0.495413, Train accuracy: 0.904444, val accuracy: 0.718000\n",
      "Loss: 0.501975, Train accuracy: 0.951444, val accuracy: 0.737000\n",
      "Loss: 0.563203, Train accuracy: 0.917222, val accuracy: 0.749000\n",
      "Loss: 0.539293, Train accuracy: 0.956000, val accuracy: 0.755000\n",
      "Loss: 0.765566, Train accuracy: 0.891778, val accuracy: 0.721000\n",
      "Loss: 0.651014, Train accuracy: 0.907444, val accuracy: 0.723000\n",
      "Loss: 0.586362, Train accuracy: 0.955111, val accuracy: 0.755000\n",
      "0.5 0.0001 0.8 0.755\n",
      "best validation accuracy achieved: 0.755000\n"
     ]
    }
   ],
   "source": [
    "# Let's train the best one-hidden-layer network we can\n",
    "\n",
    "learning_rates = [5e-1]#[5e-2, 1e-2, 5e-3, 2e-3]\n",
    "reg_strength = [1e-4]#,1e-4, 1e-5]\n",
    "learning_rate_decay = 0.997\n",
    "hidden_layer_size = 128\n",
    "num_epochs = 200\n",
    "batch_size = 64\n",
    "momentum = [0.8]#,0.85,0.9,0.95]\n",
    "\n",
    "best_classifier = None\n",
    "best_val_accuracy = 0.0\n",
    "\n",
    "loss_history = []\n",
    "train_history = []\n",
    "val_history = []\n",
    "\n",
    "# TODO find the best hyperparameters to train the network\n",
    "# Don't hesitate to add new values to the arrays above, perform experiments, use any tricks you want\n",
    "# You should expect to get to at least 40% of valudation accuracy\n",
    "# Save loss/train/history of the best classifier to the variables above\n",
    "for lr in learning_rates:\n",
    "    for reg in reg_strength:\n",
    "        for mom in momentum:\n",
    "            model = TwoLayerNet(n_input = train_X.shape[1], n_output = 10, hidden_layer_size = hidden_layer_size, reg = reg)\n",
    "            dataset = Dataset(train_X, train_y, val_X, val_y)\n",
    "            trainer = Trainer(model, dataset, SGD(), learning_rate=lr, num_epochs=num_epochs, batch_size=batch_size)\n",
    "\n",
    "            loss_history, train_history, val_history = trainer.fit()\n",
    "            if val_history[-1] > best_val_accuracy:\n",
    "                best_val_accuracy = val_history[-1]\n",
    "                best_classifier = model\n",
    "                print(lr, reg, mom, best_val_accuracy)\n",
    "    \n",
    "\n",
    "print('best validation accuracy achieved: %f' % best_val_accuracy)"
   ]
  },
  {
   "cell_type": "code",
   "execution_count": 77,
   "metadata": {},
   "outputs": [
    {
     "data": {
      "text/plain": [
       "[<matplotlib.lines.Line2D at 0x7f11acaecdd8>]"
      ]
     },
     "execution_count": 77,
     "metadata": {},
     "output_type": "execute_result"
    },
    {
     "data": {
      "image/png": "[encoded data removed]",
      "text/plain": [
       "<Figure size 1080x504 with 2 Axes>"
      ]
     },
     "metadata": {},
     "output_type": "display_data"
    }
   ],
   "source": [
    "plt.figure(figsize=(15, 7))\n",
    "plt.subplot(211)\n",
    "plt.title(\"Loss\")\n",
    "plt.plot(loss_history)\n",
    "plt.subplot(212)\n",
    "plt.title(\"Train/validation accuracy\")\n",
    "plt.plot(train_history)\n",
    "plt.plot(val_history)"
   ]
  },
  {
   "cell_type": "markdown",
   "metadata": {},
   "source": [
    "# Как обычно, посмотрим, как наша лучшая модель работает на тестовых данных"
   ]
  },
  {
   "cell_type": "code",
   "execution_count": 78,
   "metadata": {},
   "outputs": [
    {
     "name": "stdout",
     "output_type": "stream",
     "text": [
      "Neural net test set accuracy: 0.726000\n"
     ]
    }
   ],
   "source": [
    "test_pred = best_classifier.predict(test_X)\n",
    "test_accuracy = multiclass_accuracy(test_pred, test_y)\n",
    "print('Neural net test set accuracy: %f' % (test_accuracy, ))"
   ]
  },
  {
   "cell_type": "code",
   "execution_count": null,
   "metadata": {},
   "outputs": [],
   "source": []
  }
 ],
 "metadata": {
  "kernelspec": {
   "display_name": "Python 3",
   "language": "python",
   "name": "python3"
  },
  "language_info": {
   "codemirror_mode": {
    "name": "ipython",
    "version": 3
   },
   "file_extension": ".py",
   "mimetype": "text/x-python",
   "name": "python",
   "nbconvert_exporter": "python",
   "pygments_lexer": "ipython3",
   "version": "3.6.6"
  }
 },
 "nbformat": 4,
 "nbformat_minor": 2
}
