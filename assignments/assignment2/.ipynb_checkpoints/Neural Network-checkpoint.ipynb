{
 "cells": [
  {
   "cell_type": "markdown",
   "metadata": {},
   "source": [
    "# Задание 2.1 - Нейронные сети\n",
    "\n",
    "В этом задании вы реализуете и натренируете настоящую нейроную сеть своими руками!\n",
    "\n",
    "В некотором смысле это будет расширением прошлого задания - нам нужно просто составить несколько линейных классификаторов вместе!\n",
    "\n",
    "<img src=\"https://i.redd.it/n9fgba8b0qr01.png\" alt=\"Stack_more_layers\" width=\"400px\"/>"
   ]
  },
  {
   "cell_type": "code",
   "execution_count": 1,
   "metadata": {},
   "outputs": [],
   "source": [
    "import numpy as np\n",
    "import matplotlib.pyplot as plt\n",
    "\n",
    "%matplotlib inline\n",
    "\n",
    "%load_ext autoreload\n",
    "%autoreload 2"
   ]
  },
  {
   "cell_type": "code",
   "execution_count": 2,
   "metadata": {},
   "outputs": [],
   "source": [
    "from dataset import load_svhn, random_split_train_val\n",
    "from gradient_check import check_layer_gradient, check_layer_param_gradient, check_model_gradient\n",
    "from layers import FullyConnectedLayer, ReLULayer\n",
    "from model import TwoLayerNet\n",
    "from trainer import Trainer, Dataset\n",
    "from optim import SGD, MomentumSGD\n",
    "from metrics import multiclass_accuracy"
   ]
  },
  {
   "cell_type": "markdown",
   "metadata": {},
   "source": [
    "# Загружаем данные\n",
    "\n",
    "И разделяем их на training и validation."
   ]
  },
  {
   "cell_type": "code",
   "execution_count": 3,
   "metadata": {},
   "outputs": [],
   "source": [
    "def prepare_for_neural_network(train_X, test_X):\n",
    "    train_flat = train_X.reshape(train_X.shape[0], -1).astype(np.float) / 255.0\n",
    "    test_flat = test_X.reshape(test_X.shape[0], -1).astype(np.float) / 255.0\n",
    "    \n",
    "    # Subtract mean\n",
    "    mean_image = np.mean(train_flat, axis = 0)\n",
    "    train_flat -= mean_image\n",
    "    test_flat -= mean_image\n",
    "    \n",
    "    return train_flat, test_flat\n",
    "    \n",
    "train_X, train_y, test_X, test_y = load_svhn(\"data\", max_train=10000, max_test=1000)    \n",
    "train_X, test_X = prepare_for_neural_network(train_X, test_X)\n",
    "# Split train into train and val\n",
    "train_X, train_y, val_X, val_y = random_split_train_val(train_X, train_y, num_val = 1000)"
   ]
  },
  {
   "cell_type": "markdown",
   "metadata": {},
   "source": [
    "# Как всегда, начинаем с кирпичиков\n",
    "\n",
    "Мы будем реализовывать необходимые нам слои по очереди. Каждый слой должен реализовать:\n",
    "- прямой проход (forward pass), который генерирует выход слоя по входу и запоминает необходимые данные\n",
    "- обратный проход (backward pass), который получает градиент по выходу слоя и вычисляет градиент по входу и по параметрам\n",
    "\n",
    "Начнем с ReLU, у которого параметров нет."
   ]
  },
  {
   "cell_type": "code",
   "execution_count": 4,
   "metadata": {
    "scrolled": false
   },
   "outputs": [
    {
     "name": "stdout",
     "output_type": "stream",
     "text": [
      "Gradient check passed!\n"
     ]
    }
   ],
   "source": [
    "# TODO: Implement ReLULayer layer in layers.py\n",
    "# Note: you'll need to copy implementation of the gradient_check function from the previous assignment\n",
    "\n",
    "X = np.array([[1,-2,3],\n",
    "              [-1, 2, 0.1]\n",
    "              ])\n",
    "\n",
    "assert check_layer_gradient(ReLULayer(), X)"
   ]
  },
  {
   "cell_type": "markdown",
   "metadata": {},
   "source": [
    "А теперь реализуем полносвязный слой (fully connected layer), у которого будет два массива параметров: W (weights) и B (bias).\n",
    "\n",
    "Все параметры наши слои будут использовать для параметров специальный класс `Param`, в котором будут храниться значения параметров и градиенты этих параметров, вычисляемые во время обратного прохода.\n",
    "\n",
    "Это даст возможность аккумулировать (суммировать) градиенты из разных частей функции потерь, например, из cross-entropy loss и regularization loss."
   ]
  },
  {
   "cell_type": "code",
   "execution_count": 6,
   "metadata": {},
   "outputs": [
    {
     "name": "stdout",
     "output_type": "stream",
     "text": [
      "Gradient check passed!\n",
      "Gradient check passed!\n",
      "Gradient check passed!\n"
     ]
    }
   ],
   "source": [
    "# TODO: Implement FullyConnected layer forward and backward methods\n",
    "assert check_layer_gradient(FullyConnectedLayer(3, 4), X)\n",
    "# TODO: Implement storing gradients for W and B\n",
    "assert check_layer_param_gradient(FullyConnectedLayer(3, 4), X, 'W')\n",
    "assert check_layer_param_gradient(FullyConnectedLayer(3, 4), X, 'B')"
   ]
  },
  {
   "cell_type": "markdown",
   "metadata": {},
   "source": [
    "## Создаем нейронную сеть\n",
    "\n",
    "Теперь мы реализуем простейшую нейронную сеть с двумя полносвязным слоями и нелинейностью ReLU. Реализуйте функцию `compute_loss_and_gradients`, она должна запустить прямой и обратный проход через оба слоя для вычисления градиентов.\n",
    "\n",
    "Не забудьте реализовать очистку градиентов в начале функции."
   ]
  },
  {
   "cell_type": "code",
   "execution_count": 12,
   "metadata": {},
   "outputs": [
    {
     "name": "stdout",
     "output_type": "stream",
     "text": [
      "Checking gradient for W1\n",
      "Gradient check passed!\n",
      "Checking gradient for W2\n",
      "Gradient check passed!\n",
      "Checking gradient for B1\n",
      "Gradient check passed!\n",
      "Checking gradient for B2\n",
      "Gradient check passed!\n"
     ]
    },
    {
     "data": {
      "text/plain": [
       "True"
      ]
     },
     "execution_count": 12,
     "metadata": {},
     "output_type": "execute_result"
    }
   ],
   "source": [
    "# TODO: In model.py, implement compute_loss_and_gradients function\n",
    "model = TwoLayerNet(n_input = train_X.shape[1], n_output = 10, hidden_layer_size = 3, reg = 0)\n",
    "loss = model.compute_loss_and_gradients(train_X[:2], train_y[:2])\n",
    "\n",
    "# TODO Now implement backward pass and aggregate all of the params\n",
    "check_model_gradient(model, train_X[:2], train_y[:2])"
   ]
  },
  {
   "cell_type": "markdown",
   "metadata": {},
   "source": [
    "Теперь добавьте к модели регуляризацию - она должна прибавляться к loss и делать свой вклад в градиенты."
   ]
  },
  {
   "cell_type": "code",
   "execution_count": 13,
   "metadata": {},
   "outputs": [
    {
     "name": "stdout",
     "output_type": "stream",
     "text": [
      "Checking gradient for W1\n",
      "Gradient check passed!\n",
      "Checking gradient for W2\n",
      "Gradient check passed!\n",
      "Checking gradient for B1\n",
      "Gradient check passed!\n",
      "Checking gradient for B2\n",
      "Gradient check passed!\n"
     ]
    },
    {
     "data": {
      "text/plain": [
       "True"
      ]
     },
     "execution_count": 13,
     "metadata": {},
     "output_type": "execute_result"
    }
   ],
   "source": [
    "# TODO Now implement l2 regularization in the forward and backward pass\n",
    "model_with_reg = TwoLayerNet(n_input = train_X.shape[1], n_output = 10, hidden_layer_size = 3, reg = 1e1)\n",
    "loss_with_reg = model_with_reg.compute_loss_and_gradients(train_X[:2], train_y[:2])\n",
    "assert loss_with_reg > loss and not np.isclose(loss_with_reg, loss), \\\n",
    "    \"Loss with regularization (%2.4f) should be higher than without it (%2.4f)!\" % (loss, loss_with_reg)\n",
    "\n",
    "check_model_gradient(model_with_reg, train_X[:2], train_y[:2])"
   ]
  },
  {
   "cell_type": "markdown",
   "metadata": {},
   "source": [
    "Также реализуем функцию предсказания (вычисления значения) модели на новых данных.\n",
    "\n",
    "Какое значение точности мы ожидаем увидеть до начала тренировки?"
   ]
  },
  {
   "cell_type": "code",
   "execution_count": 15,
   "metadata": {},
   "outputs": [
    {
     "data": {
      "text/plain": [
       "0.16666666666666663"
      ]
     },
     "execution_count": 15,
     "metadata": {},
     "output_type": "execute_result"
    }
   ],
   "source": [
    "# Finally, implement predict function!\n",
    "\n",
    "# TODO: Implement predict function\n",
    "# What would be the value we expect?\n",
    "multiclass_accuracy(model_with_reg.predict(train_X[:30]), train_y[:30]) "
   ]
  },
  {
   "cell_type": "markdown",
   "metadata": {},
   "source": [
    "# Допишем код для процесса тренировки"
   ]
  },
  {
   "cell_type": "code",
   "execution_count": 20,
   "metadata": {},
   "outputs": [
    {
     "name": "stdout",
     "output_type": "stream",
     "text": [
      "Loss: 2.132736, Train accuracy: 0.206333, val accuracy: 0.218000\n",
      "Loss: 1.706382, Train accuracy: 0.449222, val accuracy: 0.450000\n",
      "Loss: 1.173314, Train accuracy: 0.606000, val accuracy: 0.598000\n",
      "Loss: 0.852998, Train accuracy: 0.631667, val accuracy: 0.624000\n",
      "Loss: 1.109005, Train accuracy: 0.689111, val accuracy: 0.672000\n",
      "Loss: 0.922254, Train accuracy: 0.726778, val accuracy: 0.704000\n",
      "Loss: 1.488328, Train accuracy: 0.736333, val accuracy: 0.695000\n",
      "Loss: 0.881777, Train accuracy: 0.755889, val accuracy: 0.702000\n",
      "Loss: 0.529717, Train accuracy: 0.763556, val accuracy: 0.698000\n",
      "Loss: 1.072395, Train accuracy: 0.780556, val accuracy: 0.717000\n",
      "Loss: 0.466286, Train accuracy: 0.783667, val accuracy: 0.721000\n",
      "Loss: 0.409788, Train accuracy: 0.800444, val accuracy: 0.727000\n",
      "Loss: 0.482072, Train accuracy: 0.819889, val accuracy: 0.732000\n",
      "Loss: 0.551533, Train accuracy: 0.796333, val accuracy: 0.707000\n",
      "Loss: 0.713940, Train accuracy: 0.816667, val accuracy: 0.693000\n",
      "Loss: 0.711819, Train accuracy: 0.782333, val accuracy: 0.699000\n",
      "Loss: 0.382472, Train accuracy: 0.823667, val accuracy: 0.718000\n",
      "Loss: 0.461307, Train accuracy: 0.846111, val accuracy: 0.735000\n",
      "Loss: 0.905866, Train accuracy: 0.846444, val accuracy: 0.728000\n",
      "Loss: 0.960338, Train accuracy: 0.871889, val accuracy: 0.755000\n"
     ]
    }
   ],
   "source": [
    "model = TwoLayerNet(n_input = train_X.shape[1], n_output = 10, hidden_layer_size = 100, reg = 1e-5)\n",
    "dataset = Dataset(train_X, train_y, val_X, val_y)\n",
    "trainer = Trainer(model, dataset, SGD(), learning_rate=1e-1)\n",
    "\n",
    "# TODO Implement missing pieces in Trainer.fit function\n",
    "# You should expect loss to go down and train and val accuracy go up for every epoch\n",
    "loss_history, train_history, val_history = trainer.fit()"
   ]
  },
  {
   "cell_type": "code",
   "execution_count": 24,
   "metadata": {},
   "outputs": [
    {
     "data": {
      "text/plain": [
       "[<matplotlib.lines.Line2D at 0x7f11ae4ac898>]"
      ]
     },
     "execution_count": 24,
     "metadata": {},
     "output_type": "execute_result"
    },
    {
     "data": {
      "image/png": "[encoded data removed]",
      "text/plain": [
       "<Figure size 432x288 with 1 Axes>"
      ]
     },
     "metadata": {},
     "output_type": "display_data"
    }
   ],
   "source": [
    "plt.plot(train_history)\n",
    "plt.plot(val_history)"
   ]
  },
  {
   "cell_type": "markdown",
   "metadata": {},
   "source": [
    "# Улучшаем процесс тренировки\n",
    "\n",
    "Мы реализуем несколько ключевых оптимизаций, необходимых для тренировки современных нейросетей."
   ]
  },
  {
   "cell_type": "markdown",
   "metadata": {},
   "source": [
    "## Уменьшение скорости обучения (learning rate decay)\n",
    "\n",
    "Одна из необходимых оптимизаций во время тренировки нейронных сетей - постепенное уменьшение скорости обучения по мере тренировки.\n",
    "\n",
    "Один из стандартных методов - уменьшение скорости обучения (learning rate) каждые N эпох на коэффициент d (часто называемый decay). Значения N и d, как всегда, являются гиперпараметрами и должны подбираться на основе эффективности на проверочных данных (validation data). \n",
    "\n",
    "В нашем случае N будет равным 1."
   ]
  },
  {
   "cell_type": "code",
   "execution_count": 23,
   "metadata": {},
   "outputs": [
    {
     "name": "stdout",
     "output_type": "stream",
     "text": [
      "Loss: 2.328357, Train accuracy: 0.066333, val accuracy: 0.049000\n",
      "Loss: 2.323940, Train accuracy: 0.066333, val accuracy: 0.049000\n",
      "Loss: 2.320913, Train accuracy: 0.066444, val accuracy: 0.049000\n",
      "Loss: 2.317870, Train accuracy: 0.069000, val accuracy: 0.050000\n",
      "Loss: 2.315318, Train accuracy: 0.077333, val accuracy: 0.060000\n",
      "Loss: 2.313394, Train accuracy: 0.089556, val accuracy: 0.071000\n",
      "Loss: 2.311774, Train accuracy: 0.106000, val accuracy: 0.087000\n",
      "Loss: 2.310560, Train accuracy: 0.119667, val accuracy: 0.114000\n",
      "Loss: 2.309264, Train accuracy: 0.135000, val accuracy: 0.128000\n",
      "Loss: 2.308239, Train accuracy: 0.144333, val accuracy: 0.145000\n",
      "Loss: 2.307401, Train accuracy: 0.155000, val accuracy: 0.157000\n",
      "Loss: 2.306052, Train accuracy: 0.164222, val accuracy: 0.169000\n",
      "Loss: 2.306078, Train accuracy: 0.169111, val accuracy: 0.175000\n",
      "Loss: 2.304994, Train accuracy: 0.174889, val accuracy: 0.173000\n",
      "Loss: 2.305572, Train accuracy: 0.179889, val accuracy: 0.180000\n",
      "Loss: 2.304258, Train accuracy: 0.183667, val accuracy: 0.183000\n",
      "Loss: 2.304437, Train accuracy: 0.186333, val accuracy: 0.184000\n",
      "Loss: 2.304577, Train accuracy: 0.188556, val accuracy: 0.190000\n",
      "Loss: 2.304266, Train accuracy: 0.189889, val accuracy: 0.193000\n",
      "Loss: 2.304459, Train accuracy: 0.191667, val accuracy: 0.196000\n"
     ]
    }
   ],
   "source": [
    "# TODO Implement learning rate decay inside Trainer.fit method\n",
    "# Decay should happen once per epoch\n",
    "\n",
    "model = TwoLayerNet(n_input = train_X.shape[1], n_output = 10, hidden_layer_size = 100, reg = 1e-1)\n",
    "dataset = Dataset(train_X, train_y, val_X, val_y)\n",
    "trainer = Trainer(model, dataset, SGD(), learning_rate_decay=0.99)\n",
    "\n",
    "initial_learning_rate = trainer.learning_rate\n",
    "loss_history, train_history, val_history = trainer.fit()\n",
    "\n",
    "assert trainer.learning_rate < initial_learning_rate, \"Learning rate should've been reduced\"\n",
    "assert trainer.learning_rate > 0.5*initial_learning_rate, \"Learning rate shouldn'tve been reduced that much!\""
   ]
  },
  {
   "cell_type": "markdown",
   "metadata": {},
   "source": [
    "# Накопление импульса (Momentum SGD)\n",
    "\n",
    "Другой большой класс оптимизаций - использование более эффективных методов градиентного спуска. Мы реализуем один из них - накопление импульса (Momentum SGD).\n",
    "\n",
    "Этот метод хранит скорость движения, использует градиент для ее изменения на каждом шаге, и изменяет веса пропорционально значению скорости.\n",
    "(Физическая аналогия: Вместо скорости градиенты теперь будут задавать ускорение, но будет присутствовать сила трения.)\n",
    "\n",
    "```\n",
    "velocity = momentum * velocity - learning_rate * gradient \n",
    "w = w + velocity\n",
    "```\n",
    "\n",
    "`momentum` здесь коэффициент затухания, который тоже является гиперпараметром (к счастью, для него часто есть хорошее значение по умолчанию, типичный диапазон -- 0.8-0.99).\n",
    "\n",
    "Несколько полезных ссылок, где метод разбирается более подробно:  \n",
    "http://cs231n.github.io/neural-networks-3/#sgd  \n",
    "https://distill.pub/2017/momentum/"
   ]
  },
  {
   "cell_type": "code",
   "execution_count": 30,
   "metadata": {},
   "outputs": [
    {
     "name": "stdout",
     "output_type": "stream",
     "text": [
      "Loss: 1.995347, Train accuracy: 0.199444, val accuracy: 0.209000\n",
      "Loss: 2.158018, Train accuracy: 0.400889, val accuracy: 0.380000\n",
      "Loss: 1.779726, Train accuracy: 0.569778, val accuracy: 0.546000\n",
      "Loss: 1.194249, Train accuracy: 0.631556, val accuracy: 0.597000\n",
      "Loss: 1.156375, Train accuracy: 0.657444, val accuracy: 0.647000\n",
      "Loss: 1.104781, Train accuracy: 0.700444, val accuracy: 0.679000\n",
      "Loss: 1.330431, Train accuracy: 0.733000, val accuracy: 0.675000\n",
      "Loss: 1.220190, Train accuracy: 0.712889, val accuracy: 0.680000\n",
      "Loss: 0.767778, Train accuracy: 0.737111, val accuracy: 0.690000\n",
      "Loss: 0.625667, Train accuracy: 0.756667, val accuracy: 0.699000\n",
      "Loss: 1.186762, Train accuracy: 0.768556, val accuracy: 0.726000\n",
      "Loss: 1.630323, Train accuracy: 0.772111, val accuracy: 0.693000\n",
      "Loss: 1.041803, Train accuracy: 0.758444, val accuracy: 0.690000\n",
      "Loss: 0.962623, Train accuracy: 0.768556, val accuracy: 0.692000\n",
      "Loss: 1.299693, Train accuracy: 0.803222, val accuracy: 0.730000\n",
      "Loss: 1.055211, Train accuracy: 0.807222, val accuracy: 0.714000\n",
      "Loss: 0.916563, Train accuracy: 0.799000, val accuracy: 0.718000\n",
      "Loss: 0.894073, Train accuracy: 0.772111, val accuracy: 0.718000\n",
      "Loss: 0.815296, Train accuracy: 0.814444, val accuracy: 0.730000\n",
      "Loss: 1.024234, Train accuracy: 0.794222, val accuracy: 0.718000\n"
     ]
    }
   ],
   "source": [
    "# TODO: Implement MomentumSGD.update function in optim.py\n",
    "\n",
    "model = TwoLayerNet(n_input = train_X.shape[1], n_output = 10, hidden_layer_size = 100, reg = 1e-4)\n",
    "dataset = Dataset(train_X, train_y, val_X, val_y)\n",
    "trainer = Trainer(model, dataset, MomentumSGD(), learning_rate=1e-2, learning_rate_decay=0.95)\n",
    "\n",
    "# You should see even better results than before!\n",
    "loss_history, train_history, val_history = trainer.fit()"
   ]
  },
  {
   "cell_type": "markdown",
   "metadata": {},
   "source": [
    "# Ну что, давайте уже тренировать сеть!"
   ]
  },
  {
   "cell_type": "markdown",
   "metadata": {},
   "source": [
    "## Последний тест - переобучимся (overfit) на маленьком наборе данных\n",
    "\n",
    "Хороший способ проверить, все ли реализовано корректно - переобучить сеть на маленьком наборе данных.  \n",
    "Наша модель обладает достаточной мощностью, чтобы приблизить маленький набор данных идеально, поэтому мы ожидаем, что на нем мы быстро дойдем до 100% точности на тренировочном наборе. \n",
    "\n",
    "Если этого не происходит, то где-то была допущена ошибка!"
   ]
  },
  {
   "cell_type": "code",
   "execution_count": 31,
   "metadata": {},
   "outputs": [
    {
     "name": "stdout",
     "output_type": "stream",
     "text": [
      "Loss: 2.331004, Train accuracy: 0.133333, val accuracy: 0.133333\n",
      "Loss: 2.327283, Train accuracy: 0.200000, val accuracy: 0.066667\n",
      "Loss: 2.324905, Train accuracy: 0.266667, val accuracy: 0.066667\n",
      "Loss: 2.321032, Train accuracy: 0.400000, val accuracy: 0.066667\n",
      "Loss: 2.319592, Train accuracy: 0.400000, val accuracy: 0.066667\n",
      "Loss: 2.311091, Train accuracy: 0.333333, val accuracy: 0.000000\n",
      "Loss: 2.302504, Train accuracy: 0.333333, val accuracy: 0.000000\n",
      "Loss: 2.226704, Train accuracy: 0.333333, val accuracy: 0.000000\n",
      "Loss: 2.059826, Train accuracy: 0.333333, val accuracy: 0.000000\n",
      "Loss: 1.958393, Train accuracy: 0.333333, val accuracy: 0.000000\n",
      "Loss: 2.444431, Train accuracy: 0.333333, val accuracy: 0.000000\n",
      "Loss: 1.892370, Train accuracy: 0.333333, val accuracy: 0.000000\n",
      "Loss: 1.709634, Train accuracy: 0.333333, val accuracy: 0.000000\n",
      "Loss: 1.722649, Train accuracy: 0.333333, val accuracy: 0.000000\n",
      "Loss: 2.381627, Train accuracy: 0.333333, val accuracy: 0.000000\n",
      "Loss: 1.539125, Train accuracy: 0.333333, val accuracy: 0.000000\n",
      "Loss: 1.748773, Train accuracy: 0.400000, val accuracy: 0.000000\n",
      "Loss: 1.710514, Train accuracy: 0.333333, val accuracy: 0.000000\n",
      "Loss: 2.202204, Train accuracy: 0.400000, val accuracy: 0.000000\n",
      "Loss: 2.063325, Train accuracy: 0.400000, val accuracy: 0.000000\n",
      "Loss: 1.977666, Train accuracy: 0.400000, val accuracy: 0.000000\n",
      "Loss: 2.159844, Train accuracy: 0.400000, val accuracy: 0.000000\n",
      "Loss: 2.392753, Train accuracy: 0.400000, val accuracy: 0.000000\n",
      "Loss: 1.448505, Train accuracy: 0.466667, val accuracy: 0.000000\n",
      "Loss: 2.002897, Train accuracy: 0.400000, val accuracy: 0.000000\n",
      "Loss: 2.206594, Train accuracy: 0.466667, val accuracy: 0.000000\n",
      "Loss: 1.663369, Train accuracy: 0.466667, val accuracy: 0.000000\n",
      "Loss: 2.060343, Train accuracy: 0.466667, val accuracy: 0.000000\n",
      "Loss: 2.433015, Train accuracy: 0.466667, val accuracy: 0.000000\n",
      "Loss: 1.806392, Train accuracy: 0.466667, val accuracy: 0.000000\n",
      "Loss: 2.142241, Train accuracy: 0.533333, val accuracy: 0.000000\n",
      "Loss: 1.289945, Train accuracy: 0.533333, val accuracy: 0.000000\n",
      "Loss: 2.100367, Train accuracy: 0.533333, val accuracy: 0.000000\n",
      "Loss: 1.997894, Train accuracy: 0.533333, val accuracy: 0.000000\n",
      "Loss: 1.723835, Train accuracy: 0.466667, val accuracy: 0.000000\n",
      "Loss: 1.383973, Train accuracy: 0.600000, val accuracy: 0.000000\n",
      "Loss: 2.094962, Train accuracy: 0.600000, val accuracy: 0.000000\n",
      "Loss: 1.783919, Train accuracy: 0.600000, val accuracy: 0.000000\n",
      "Loss: 1.883621, Train accuracy: 0.533333, val accuracy: 0.000000\n",
      "Loss: 1.098452, Train accuracy: 0.600000, val accuracy: 0.000000\n",
      "Loss: 1.761983, Train accuracy: 0.600000, val accuracy: 0.000000\n",
      "Loss: 1.519063, Train accuracy: 0.600000, val accuracy: 0.000000\n",
      "Loss: 1.552314, Train accuracy: 0.600000, val accuracy: 0.000000\n",
      "Loss: 1.313971, Train accuracy: 0.666667, val accuracy: 0.000000\n",
      "Loss: 1.332430, Train accuracy: 0.600000, val accuracy: 0.000000\n",
      "Loss: 1.657437, Train accuracy: 0.600000, val accuracy: 0.000000\n",
      "Loss: 1.917121, Train accuracy: 0.666667, val accuracy: 0.000000\n",
      "Loss: 1.297976, Train accuracy: 0.666667, val accuracy: 0.000000\n",
      "Loss: 1.817118, Train accuracy: 0.666667, val accuracy: 0.000000\n",
      "Loss: 1.134872, Train accuracy: 0.666667, val accuracy: 0.000000\n",
      "Loss: 1.218824, Train accuracy: 0.733333, val accuracy: 0.000000\n",
      "Loss: 1.645267, Train accuracy: 0.733333, val accuracy: 0.000000\n",
      "Loss: 1.636244, Train accuracy: 0.733333, val accuracy: 0.066667\n",
      "Loss: 1.258910, Train accuracy: 0.733333, val accuracy: 0.000000\n",
      "Loss: 1.455599, Train accuracy: 0.733333, val accuracy: 0.000000\n",
      "Loss: 1.579788, Train accuracy: 0.733333, val accuracy: 0.066667\n",
      "Loss: 1.217248, Train accuracy: 0.733333, val accuracy: 0.000000\n",
      "Loss: 1.457078, Train accuracy: 0.733333, val accuracy: 0.066667\n",
      "Loss: 1.600790, Train accuracy: 0.733333, val accuracy: 0.066667\n",
      "Loss: 1.669229, Train accuracy: 0.733333, val accuracy: 0.000000\n",
      "Loss: 0.917808, Train accuracy: 0.733333, val accuracy: 0.066667\n",
      "Loss: 1.465690, Train accuracy: 0.733333, val accuracy: 0.000000\n",
      "Loss: 1.005962, Train accuracy: 0.733333, val accuracy: 0.000000\n",
      "Loss: 1.679868, Train accuracy: 0.733333, val accuracy: 0.066667\n",
      "Loss: 1.280500, Train accuracy: 0.733333, val accuracy: 0.066667\n",
      "Loss: 1.713962, Train accuracy: 0.733333, val accuracy: 0.066667\n",
      "Loss: 1.085344, Train accuracy: 0.733333, val accuracy: 0.066667\n",
      "Loss: 1.762038, Train accuracy: 0.733333, val accuracy: 0.066667\n",
      "Loss: 1.434318, Train accuracy: 0.733333, val accuracy: 0.066667\n",
      "Loss: 0.948187, Train accuracy: 0.733333, val accuracy: 0.066667\n",
      "Loss: 1.322659, Train accuracy: 0.733333, val accuracy: 0.066667\n",
      "Loss: 0.891033, Train accuracy: 0.733333, val accuracy: 0.066667\n",
      "Loss: 1.979006, Train accuracy: 0.733333, val accuracy: 0.066667\n",
      "Loss: 1.357282, Train accuracy: 0.733333, val accuracy: 0.066667\n",
      "Loss: 1.004316, Train accuracy: 0.733333, val accuracy: 0.066667\n",
      "Loss: 1.274589, Train accuracy: 0.733333, val accuracy: 0.066667\n",
      "Loss: 1.252577, Train accuracy: 0.733333, val accuracy: 0.066667\n",
      "Loss: 1.308162, Train accuracy: 0.733333, val accuracy: 0.066667\n",
      "Loss: 0.944258, Train accuracy: 0.733333, val accuracy: 0.066667\n",
      "Loss: 1.597590, Train accuracy: 0.733333, val accuracy: 0.000000\n",
      "Loss: 1.207257, Train accuracy: 0.733333, val accuracy: 0.066667\n",
      "Loss: 1.667115, Train accuracy: 0.733333, val accuracy: 0.066667\n",
      "Loss: 1.187175, Train accuracy: 0.800000, val accuracy: 0.066667\n",
      "Loss: 1.982105, Train accuracy: 0.800000, val accuracy: 0.000000\n",
      "Loss: 0.938884, Train accuracy: 0.800000, val accuracy: 0.066667\n",
      "Loss: 1.310287, Train accuracy: 0.800000, val accuracy: 0.066667\n",
      "Loss: 0.999722, Train accuracy: 0.800000, val accuracy: 0.066667\n",
      "Loss: 1.388853, Train accuracy: 0.800000, val accuracy: 0.066667\n",
      "Loss: 1.657266, Train accuracy: 0.800000, val accuracy: 0.066667\n",
      "Loss: 2.145398, Train accuracy: 0.800000, val accuracy: 0.066667\n",
      "Loss: 1.555274, Train accuracy: 0.800000, val accuracy: 0.066667\n",
      "Loss: 1.910481, Train accuracy: 0.800000, val accuracy: 0.066667\n",
      "Loss: 1.995286, Train accuracy: 0.800000, val accuracy: 0.066667\n",
      "Loss: 1.725586, Train accuracy: 0.800000, val accuracy: 0.066667\n",
      "Loss: 0.939092, Train accuracy: 0.800000, val accuracy: 0.066667\n",
      "Loss: 1.566862, Train accuracy: 0.800000, val accuracy: 0.066667\n",
      "Loss: 1.958960, Train accuracy: 0.800000, val accuracy: 0.066667\n",
      "Loss: 1.320399, Train accuracy: 0.800000, val accuracy: 0.066667\n",
      "Loss: 1.253125, Train accuracy: 0.800000, val accuracy: 0.066667\n",
      "Loss: 1.420438, Train accuracy: 0.800000, val accuracy: 0.066667\n",
      "Loss: 1.558136, Train accuracy: 0.800000, val accuracy: 0.066667\n",
      "Loss: 1.255333, Train accuracy: 0.800000, val accuracy: 0.066667\n",
      "Loss: 1.136512, Train accuracy: 0.800000, val accuracy: 0.066667\n",
      "Loss: 1.411355, Train accuracy: 0.800000, val accuracy: 0.066667\n",
      "Loss: 1.197200, Train accuracy: 0.866667, val accuracy: 0.066667\n",
      "Loss: 1.050762, Train accuracy: 0.866667, val accuracy: 0.066667\n",
      "Loss: 1.279292, Train accuracy: 0.866667, val accuracy: 0.066667\n",
      "Loss: 1.653295, Train accuracy: 0.866667, val accuracy: 0.000000\n",
      "Loss: 1.690725, Train accuracy: 0.866667, val accuracy: 0.066667\n",
      "Loss: 1.881101, Train accuracy: 0.933333, val accuracy: 0.066667\n",
      "Loss: 1.846254, Train accuracy: 0.933333, val accuracy: 0.066667\n",
      "Loss: 1.105455, Train accuracy: 0.933333, val accuracy: 0.066667\n",
      "Loss: 1.191835, Train accuracy: 1.000000, val accuracy: 0.066667\n",
      "Loss: 1.280623, Train accuracy: 1.000000, val accuracy: 0.066667\n",
      "Loss: 0.959778, Train accuracy: 1.000000, val accuracy: 0.066667\n",
      "Loss: 1.230017, Train accuracy: 1.000000, val accuracy: 0.066667\n",
      "Loss: 1.513561, Train accuracy: 1.000000, val accuracy: 0.066667\n",
      "Loss: 1.427216, Train accuracy: 1.000000, val accuracy: 0.066667\n",
      "Loss: 1.598600, Train accuracy: 1.000000, val accuracy: 0.066667\n",
      "Loss: 1.212628, Train accuracy: 1.000000, val accuracy: 0.066667\n",
      "Loss: 1.416603, Train accuracy: 1.000000, val accuracy: 0.066667\n",
      "Loss: 1.270125, Train accuracy: 1.000000, val accuracy: 0.066667\n",
      "Loss: 1.153187, Train accuracy: 1.000000, val accuracy: 0.066667\n",
      "Loss: 1.150011, Train accuracy: 1.000000, val accuracy: 0.066667\n",
      "Loss: 1.756025, Train accuracy: 1.000000, val accuracy: 0.066667\n",
      "Loss: 1.161683, Train accuracy: 1.000000, val accuracy: 0.066667\n",
      "Loss: 1.321944, Train accuracy: 1.000000, val accuracy: 0.066667\n"
     ]
    },
    {
     "name": "stdout",
     "output_type": "stream",
     "text": [
      "Loss: 1.617141, Train accuracy: 1.000000, val accuracy: 0.066667\n",
      "Loss: 1.508658, Train accuracy: 1.000000, val accuracy: 0.066667\n",
      "Loss: 1.439227, Train accuracy: 1.000000, val accuracy: 0.066667\n",
      "Loss: 1.382313, Train accuracy: 1.000000, val accuracy: 0.066667\n",
      "Loss: 1.592677, Train accuracy: 1.000000, val accuracy: 0.066667\n",
      "Loss: 1.210300, Train accuracy: 1.000000, val accuracy: 0.066667\n",
      "Loss: 1.438965, Train accuracy: 1.000000, val accuracy: 0.066667\n",
      "Loss: 1.080726, Train accuracy: 1.000000, val accuracy: 0.066667\n",
      "Loss: 1.348016, Train accuracy: 1.000000, val accuracy: 0.066667\n",
      "Loss: 1.162155, Train accuracy: 1.000000, val accuracy: 0.000000\n",
      "Loss: 1.436021, Train accuracy: 1.000000, val accuracy: 0.066667\n",
      "Loss: 1.257594, Train accuracy: 1.000000, val accuracy: 0.000000\n",
      "Loss: 1.280948, Train accuracy: 1.000000, val accuracy: 0.000000\n",
      "Loss: 1.319300, Train accuracy: 1.000000, val accuracy: 0.000000\n",
      "Loss: 1.266324, Train accuracy: 1.000000, val accuracy: 0.000000\n",
      "Loss: 1.473630, Train accuracy: 1.000000, val accuracy: 0.000000\n",
      "Loss: 1.270962, Train accuracy: 1.000000, val accuracy: 0.000000\n",
      "Loss: 1.362806, Train accuracy: 1.000000, val accuracy: 0.000000\n",
      "Loss: 1.509459, Train accuracy: 1.000000, val accuracy: 0.000000\n",
      "Loss: 1.144602, Train accuracy: 1.000000, val accuracy: 0.000000\n",
      "Loss: 1.367329, Train accuracy: 1.000000, val accuracy: 0.000000\n",
      "Loss: 1.253612, Train accuracy: 1.000000, val accuracy: 0.000000\n",
      "Loss: 1.352085, Train accuracy: 1.000000, val accuracy: 0.000000\n"
     ]
    }
   ],
   "source": [
    "data_size = 15\n",
    "model = TwoLayerNet(n_input = train_X.shape[1], n_output = 10, hidden_layer_size = 100, reg = 1e-1)\n",
    "dataset = Dataset(train_X[:data_size], train_y[:data_size], val_X[:data_size], val_y[:data_size])\n",
    "trainer = Trainer(model, dataset, SGD(), learning_rate=1e-1, num_epochs=150, batch_size=5)\n",
    "\n",
    "# You should expect this to reach 1.0 training accuracy \n",
    "loss_history, train_history, val_history = trainer.fit()"
   ]
  },
  {
   "cell_type": "markdown",
   "metadata": {},
   "source": [
    "Теперь найдем гипепараметры, для которых этот процесс сходится быстрее.\n",
    "Если все реализовано корректно, то существуют параметры, при которых процесс сходится в **20** эпох или еще быстрее.\n",
    "Найдите их!"
   ]
  },
  {
   "cell_type": "code",
   "execution_count": 61,
   "metadata": {},
   "outputs": [
    {
     "name": "stdout",
     "output_type": "stream",
     "text": [
      "Loss: 2.302569, Train accuracy: 0.266667, val accuracy: 0.066667\n",
      "Loss: 2.301365, Train accuracy: 0.400000, val accuracy: 0.000000\n",
      "Loss: 2.289257, Train accuracy: 0.333333, val accuracy: 0.000000\n",
      "Loss: 2.244211, Train accuracy: 0.333333, val accuracy: 0.000000\n",
      "Loss: 1.935775, Train accuracy: 0.333333, val accuracy: 0.000000\n",
      "Loss: 2.649792, Train accuracy: 0.266667, val accuracy: 0.000000\n",
      "Loss: 3.173548, Train accuracy: 0.266667, val accuracy: 0.133333\n",
      "Loss: 2.289431, Train accuracy: 0.466667, val accuracy: 0.000000\n",
      "Loss: 1.001192, Train accuracy: 0.466667, val accuracy: 0.000000\n",
      "Loss: 2.449626, Train accuracy: 0.600000, val accuracy: 0.066667\n",
      "Loss: 0.433407, Train accuracy: 0.733333, val accuracy: 0.000000\n",
      "Loss: 0.804796, Train accuracy: 0.933333, val accuracy: 0.066667\n",
      "Loss: 0.506405, Train accuracy: 1.000000, val accuracy: 0.066667\n",
      "Loss: 0.024663, Train accuracy: 1.000000, val accuracy: 0.000000\n",
      "Loss: 0.048753, Train accuracy: 1.000000, val accuracy: 0.000000\n",
      "Loss: 0.004166, Train accuracy: 1.000000, val accuracy: 0.000000\n",
      "Loss: 0.003657, Train accuracy: 1.000000, val accuracy: 0.000000\n",
      "Loss: 0.002614, Train accuracy: 1.000000, val accuracy: 0.000000\n",
      "Loss: 0.001585, Train accuracy: 1.000000, val accuracy: 0.000000\n",
      "Loss: 0.001874, Train accuracy: 1.000000, val accuracy: 0.000000\n"
     ]
    }
   ],
   "source": [
    "# Now, tweak some hyper parameters and make it train to 1.0 accuracy in 20 epochs or less\n",
    "\n",
    "model = TwoLayerNet(n_input = train_X.shape[1], n_output = 10, hidden_layer_size = 100, reg = 1e-5)\n",
    "dataset = Dataset(train_X[:data_size], train_y[:data_size], val_X[:data_size], val_y[:data_size])\n",
    "# TODO: Change any hyperparamers or optimizators to reach training accuracy in 20 epochs\n",
    "trainer = Trainer(model, dataset, MomentumSGD(), learning_rate=1e-1, num_epochs=20, batch_size=5)\n",
    "\n",
    "loss_history, train_history, val_history = trainer.fit()"
   ]
  },
  {
   "cell_type": "markdown",
   "metadata": {},
   "source": [
    "# Итак, основное мероприятие!\n",
    "\n",
    "Натренируйте лучшую нейросеть! Можно добавлять и изменять параметры, менять количество нейронов в слоях сети и как угодно экспериментировать. \n",
    "\n",
    "Добейтесь точности лучше **40%** на validation set."
   ]
  },
  {
   "cell_type": "code",
   "execution_count": 75,
   "metadata": {
    "scrolled": true
   },
   "outputs": [
    {
     "name": "stdout",
     "output_type": "stream",
     "text": [
      "Loss: 1.946787, Train accuracy: 0.299556, val accuracy: 0.311000\n",
      "Loss: 1.605308, Train accuracy: 0.464444, val accuracy: 0.479000\n",
      "Loss: 1.389214, Train accuracy: 0.522333, val accuracy: 0.534000\n",
      "Loss: 1.436562, Train accuracy: 0.621333, val accuracy: 0.605000\n",
      "Loss: 1.271846, Train accuracy: 0.649667, val accuracy: 0.642000\n",
      "Loss: 1.764709, Train accuracy: 0.555111, val accuracy: 0.549000\n",
      "Loss: 1.097599, Train accuracy: 0.654556, val accuracy: 0.631000\n",
      "Loss: 1.042943, Train accuracy: 0.702667, val accuracy: 0.652000\n",
      "Loss: 0.992914, Train accuracy: 0.719556, val accuracy: 0.657000\n",
      "Loss: 0.726843, Train accuracy: 0.746444, val accuracy: 0.685000\n",
      "Loss: 0.863126, Train accuracy: 0.698333, val accuracy: 0.633000\n",
      "Loss: 1.000663, Train accuracy: 0.702889, val accuracy: 0.627000\n",
      "Loss: 2.108267, Train accuracy: 0.645444, val accuracy: 0.575000\n",
      "Loss: 0.952099, Train accuracy: 0.750778, val accuracy: 0.671000\n",
      "Loss: 1.174171, Train accuracy: 0.713000, val accuracy: 0.645000\n",
      "Loss: 0.746591, Train accuracy: 0.756444, val accuracy: 0.695000\n",
      "Loss: 0.554886, Train accuracy: 0.816889, val accuracy: 0.723000\n",
      "Loss: 0.640105, Train accuracy: 0.794889, val accuracy: 0.679000\n",
      "Loss: 1.866583, Train accuracy: 0.740556, val accuracy: 0.633000\n",
      "Loss: 0.622634, Train accuracy: 0.770667, val accuracy: 0.674000\n",
      "Loss: 0.635650, Train accuracy: 0.828556, val accuracy: 0.724000\n",
      "Loss: 0.514464, Train accuracy: 0.844444, val accuracy: 0.724000\n",
      "Loss: 0.645221, Train accuracy: 0.827889, val accuracy: 0.710000\n",
      "Loss: 0.695726, Train accuracy: 0.789000, val accuracy: 0.683000\n",
      "Loss: 0.943858, Train accuracy: 0.790778, val accuracy: 0.676000\n",
      "Loss: 0.678179, Train accuracy: 0.836556, val accuracy: 0.712000\n",
      "Loss: 1.147650, Train accuracy: 0.805444, val accuracy: 0.694000\n",
      "Loss: 0.372392, Train accuracy: 0.864222, val accuracy: 0.722000\n",
      "Loss: 0.931701, Train accuracy: 0.782222, val accuracy: 0.677000\n",
      "Loss: 1.051512, Train accuracy: 0.845333, val accuracy: 0.712000\n",
      "Loss: 0.972086, Train accuracy: 0.860000, val accuracy: 0.719000\n",
      "Loss: 0.665567, Train accuracy: 0.825667, val accuracy: 0.681000\n",
      "Loss: 0.748077, Train accuracy: 0.866889, val accuracy: 0.713000\n",
      "Loss: 0.712486, Train accuracy: 0.785111, val accuracy: 0.653000\n",
      "Loss: 0.719944, Train accuracy: 0.891333, val accuracy: 0.741000\n",
      "Loss: 0.502502, Train accuracy: 0.879667, val accuracy: 0.737000\n",
      "Loss: 0.797702, Train accuracy: 0.823222, val accuracy: 0.677000\n",
      "Loss: 0.747473, Train accuracy: 0.845333, val accuracy: 0.700000\n",
      "Loss: 0.876087, Train accuracy: 0.812556, val accuracy: 0.670000\n",
      "Loss: 0.827302, Train accuracy: 0.776667, val accuracy: 0.652000\n",
      "Loss: 2.105407, Train accuracy: 0.749111, val accuracy: 0.652000\n",
      "Loss: 0.899700, Train accuracy: 0.799556, val accuracy: 0.668000\n",
      "Loss: 0.687985, Train accuracy: 0.852889, val accuracy: 0.712000\n",
      "Loss: 1.049750, Train accuracy: 0.814444, val accuracy: 0.672000\n",
      "Loss: 0.698485, Train accuracy: 0.890778, val accuracy: 0.726000\n",
      "Loss: 0.608809, Train accuracy: 0.875111, val accuracy: 0.724000\n",
      "Loss: 0.699853, Train accuracy: 0.850667, val accuracy: 0.727000\n",
      "Loss: 0.580860, Train accuracy: 0.900889, val accuracy: 0.749000\n",
      "Loss: 0.439953, Train accuracy: 0.888000, val accuracy: 0.726000\n",
      "Loss: 0.691435, Train accuracy: 0.894444, val accuracy: 0.733000\n",
      "Loss: 0.548628, Train accuracy: 0.908556, val accuracy: 0.747000\n",
      "Loss: 0.978658, Train accuracy: 0.828889, val accuracy: 0.699000\n",
      "Loss: 0.627139, Train accuracy: 0.858778, val accuracy: 0.718000\n",
      "Loss: 0.771336, Train accuracy: 0.812444, val accuracy: 0.668000\n",
      "Loss: 0.475352, Train accuracy: 0.940889, val accuracy: 0.749000\n",
      "Loss: 0.657441, Train accuracy: 0.842111, val accuracy: 0.690000\n",
      "Loss: 0.651690, Train accuracy: 0.870333, val accuracy: 0.717000\n",
      "Loss: 0.530533, Train accuracy: 0.932333, val accuracy: 0.761000\n",
      "Loss: 0.712712, Train accuracy: 0.909333, val accuracy: 0.754000\n",
      "Loss: 1.881086, Train accuracy: 0.782667, val accuracy: 0.649000\n",
      "Loss: 0.662027, Train accuracy: 0.867000, val accuracy: 0.709000\n",
      "Loss: 0.665382, Train accuracy: 0.872889, val accuracy: 0.712000\n",
      "Loss: 0.859265, Train accuracy: 0.816222, val accuracy: 0.701000\n",
      "Loss: 0.583048, Train accuracy: 0.873444, val accuracy: 0.707000\n",
      "Loss: 0.386098, Train accuracy: 0.934889, val accuracy: 0.741000\n",
      "Loss: 1.318036, Train accuracy: 0.719000, val accuracy: 0.625000\n",
      "Loss: 0.564951, Train accuracy: 0.912889, val accuracy: 0.734000\n",
      "Loss: 0.773780, Train accuracy: 0.921667, val accuracy: 0.753000\n",
      "Loss: 0.715274, Train accuracy: 0.905667, val accuracy: 0.730000\n",
      "Loss: 0.626156, Train accuracy: 0.779222, val accuracy: 0.661000\n",
      "Loss: 0.658475, Train accuracy: 0.919889, val accuracy: 0.747000\n",
      "Loss: 1.096854, Train accuracy: 0.738889, val accuracy: 0.604000\n",
      "Loss: 0.608703, Train accuracy: 0.919444, val accuracy: 0.738000\n",
      "Loss: 0.444311, Train accuracy: 0.925333, val accuracy: 0.745000\n",
      "Loss: 0.482845, Train accuracy: 0.940556, val accuracy: 0.755000\n",
      "Loss: 0.644661, Train accuracy: 0.926778, val accuracy: 0.749000\n",
      "Loss: 0.506533, Train accuracy: 0.923667, val accuracy: 0.743000\n",
      "Loss: 0.495152, Train accuracy: 0.909889, val accuracy: 0.731000\n",
      "Loss: 0.572786, Train accuracy: 0.903556, val accuracy: 0.728000\n",
      "Loss: 0.423039, Train accuracy: 0.936000, val accuracy: 0.749000\n",
      "Loss: 0.517408, Train accuracy: 0.892111, val accuracy: 0.719000\n",
      "Loss: 0.626554, Train accuracy: 0.907444, val accuracy: 0.731000\n",
      "Loss: 0.387800, Train accuracy: 0.909556, val accuracy: 0.736000\n",
      "Loss: 0.433724, Train accuracy: 0.955000, val accuracy: 0.759000\n",
      "Loss: 0.802884, Train accuracy: 0.897000, val accuracy: 0.736000\n",
      "Loss: 0.667305, Train accuracy: 0.899000, val accuracy: 0.736000\n",
      "Loss: 0.527176, Train accuracy: 0.892222, val accuracy: 0.732000\n",
      "Loss: 1.227471, Train accuracy: 0.764222, val accuracy: 0.631000\n",
      "Loss: 0.450020, Train accuracy: 0.942222, val accuracy: 0.753000\n",
      "Loss: 0.440488, Train accuracy: 0.935222, val accuracy: 0.748000\n",
      "Loss: 0.576142, Train accuracy: 0.883667, val accuracy: 0.716000\n",
      "Loss: 0.577083, Train accuracy: 0.880778, val accuracy: 0.703000\n",
      "Loss: 0.522309, Train accuracy: 0.913444, val accuracy: 0.718000\n",
      "Loss: 4.815813, Train accuracy: 0.551000, val accuracy: 0.515000\n",
      "Loss: 0.666564, Train accuracy: 0.942667, val accuracy: 0.759000\n",
      "Loss: 0.405861, Train accuracy: 0.947000, val accuracy: 0.759000\n",
      "Loss: 0.424521, Train accuracy: 0.931222, val accuracy: 0.757000\n",
      "Loss: 0.839654, Train accuracy: 0.808444, val accuracy: 0.668000\n",
      "Loss: 0.676248, Train accuracy: 0.897111, val accuracy: 0.726000\n",
      "Loss: 0.624901, Train accuracy: 0.879889, val accuracy: 0.717000\n",
      "Loss: 0.446202, Train accuracy: 0.946222, val accuracy: 0.755000\n",
      "Loss: 0.481162, Train accuracy: 0.853444, val accuracy: 0.722000\n",
      "Loss: 0.405159, Train accuracy: 0.956667, val accuracy: 0.762000\n",
      "Loss: 1.199280, Train accuracy: 0.720111, val accuracy: 0.599000\n",
      "Loss: 0.522824, Train accuracy: 0.935556, val accuracy: 0.747000\n",
      "Loss: 0.416152, Train accuracy: 0.949889, val accuracy: 0.759000\n",
      "Loss: 0.720932, Train accuracy: 0.882000, val accuracy: 0.701000\n",
      "Loss: 0.410644, Train accuracy: 0.937444, val accuracy: 0.754000\n",
      "Loss: 0.785071, Train accuracy: 0.860667, val accuracy: 0.679000\n",
      "Loss: 0.539798, Train accuracy: 0.920222, val accuracy: 0.732000\n",
      "Loss: 2.353510, Train accuracy: 0.718556, val accuracy: 0.582000\n",
      "Loss: 0.716922, Train accuracy: 0.929667, val accuracy: 0.739000\n",
      "Loss: 1.790555, Train accuracy: 0.782556, val accuracy: 0.664000\n",
      "Loss: 1.016637, Train accuracy: 0.883333, val accuracy: 0.706000\n",
      "Loss: 0.622743, Train accuracy: 0.876556, val accuracy: 0.717000\n",
      "Loss: 0.431688, Train accuracy: 0.955000, val accuracy: 0.760000\n",
      "Loss: 0.541886, Train accuracy: 0.913333, val accuracy: 0.722000\n",
      "Loss: 0.433768, Train accuracy: 0.915889, val accuracy: 0.724000\n",
      "Loss: 1.388196, Train accuracy: 0.784222, val accuracy: 0.647000\n",
      "Loss: 0.503812, Train accuracy: 0.912667, val accuracy: 0.723000\n",
      "Loss: 0.566201, Train accuracy: 0.913222, val accuracy: 0.719000\n",
      "Loss: 0.430560, Train accuracy: 0.926444, val accuracy: 0.737000\n",
      "Loss: 0.523892, Train accuracy: 0.905778, val accuracy: 0.722000\n",
      "Loss: 0.448486, Train accuracy: 0.948667, val accuracy: 0.743000\n",
      "Loss: 1.095686, Train accuracy: 0.838444, val accuracy: 0.690000\n",
      "Loss: 0.632598, Train accuracy: 0.894111, val accuracy: 0.738000\n",
      "Loss: 0.389718, Train accuracy: 0.919222, val accuracy: 0.737000\n"
     ]
    },
    {
     "name": "stdout",
     "output_type": "stream",
     "text": [
      "Loss: 0.624257, Train accuracy: 0.900889, val accuracy: 0.729000\n",
      "Loss: 0.319418, Train accuracy: 0.969111, val accuracy: 0.759000\n",
      "Loss: 0.732257, Train accuracy: 0.870444, val accuracy: 0.707000\n",
      "Loss: 0.617563, Train accuracy: 0.944000, val accuracy: 0.744000\n",
      "Loss: 0.404615, Train accuracy: 0.909111, val accuracy: 0.732000\n",
      "Loss: 0.745926, Train accuracy: 0.792778, val accuracy: 0.651000\n",
      "Loss: 0.399751, Train accuracy: 0.965000, val accuracy: 0.764000\n",
      "Loss: 0.875631, Train accuracy: 0.713556, val accuracy: 0.597000\n",
      "Loss: 0.514146, Train accuracy: 0.939111, val accuracy: 0.744000\n",
      "Loss: 0.536882, Train accuracy: 0.930778, val accuracy: 0.739000\n",
      "Loss: 0.458258, Train accuracy: 0.951889, val accuracy: 0.754000\n",
      "Loss: 0.623992, Train accuracy: 0.911444, val accuracy: 0.733000\n",
      "Loss: 0.881651, Train accuracy: 0.906000, val accuracy: 0.729000\n",
      "Loss: 0.676700, Train accuracy: 0.926889, val accuracy: 0.737000\n",
      "Loss: 0.483363, Train accuracy: 0.960000, val accuracy: 0.766000\n",
      "Loss: 0.670962, Train accuracy: 0.879889, val accuracy: 0.707000\n",
      "Loss: 0.504791, Train accuracy: 0.859667, val accuracy: 0.693000\n",
      "Loss: 1.153133, Train accuracy: 0.820444, val accuracy: 0.664000\n",
      "Loss: 0.407105, Train accuracy: 0.951222, val accuracy: 0.745000\n",
      "Loss: 1.277238, Train accuracy: 0.752778, val accuracy: 0.636000\n",
      "Loss: 0.357916, Train accuracy: 0.963222, val accuracy: 0.766000\n",
      "Loss: 0.414092, Train accuracy: 0.964444, val accuracy: 0.757000\n",
      "Loss: 0.591082, Train accuracy: 0.916667, val accuracy: 0.734000\n",
      "Loss: 0.501918, Train accuracy: 0.971667, val accuracy: 0.776000\n",
      "Loss: 0.669423, Train accuracy: 0.868556, val accuracy: 0.710000\n",
      "Loss: 0.497741, Train accuracy: 0.926111, val accuracy: 0.749000\n",
      "Loss: 1.032350, Train accuracy: 0.791667, val accuracy: 0.642000\n",
      "Loss: 1.309730, Train accuracy: 0.781778, val accuracy: 0.655000\n",
      "Loss: 0.489529, Train accuracy: 0.945556, val accuracy: 0.758000\n",
      "Loss: 0.547485, Train accuracy: 0.903889, val accuracy: 0.726000\n",
      "Loss: 0.725822, Train accuracy: 0.866333, val accuracy: 0.708000\n",
      "Loss: 0.419385, Train accuracy: 0.963667, val accuracy: 0.757000\n",
      "Loss: 0.367635, Train accuracy: 0.963111, val accuracy: 0.757000\n",
      "Loss: 3.363393, Train accuracy: 0.592222, val accuracy: 0.516000\n",
      "Loss: 1.272985, Train accuracy: 0.776444, val accuracy: 0.651000\n",
      "Loss: 0.481810, Train accuracy: 0.942000, val accuracy: 0.749000\n",
      "Loss: 0.755152, Train accuracy: 0.903000, val accuracy: 0.723000\n",
      "Loss: 0.458208, Train accuracy: 0.951333, val accuracy: 0.750000\n",
      "Loss: 0.816708, Train accuracy: 0.816000, val accuracy: 0.664000\n",
      "Loss: 0.461830, Train accuracy: 0.943333, val accuracy: 0.757000\n",
      "Loss: 0.561284, Train accuracy: 0.912778, val accuracy: 0.732000\n",
      "Loss: 0.541596, Train accuracy: 0.950111, val accuracy: 0.756000\n",
      "Loss: 0.528091, Train accuracy: 0.953111, val accuracy: 0.748000\n",
      "Loss: 0.426957, Train accuracy: 0.940889, val accuracy: 0.753000\n",
      "Loss: 0.434037, Train accuracy: 0.965111, val accuracy: 0.758000\n",
      "Loss: 0.829446, Train accuracy: 0.772889, val accuracy: 0.638000\n",
      "Loss: 0.502039, Train accuracy: 0.932000, val accuracy: 0.742000\n",
      "Loss: 0.548083, Train accuracy: 0.952000, val accuracy: 0.747000\n",
      "Loss: 1.083525, Train accuracy: 0.815333, val accuracy: 0.666000\n",
      "Loss: 0.439879, Train accuracy: 0.947333, val accuracy: 0.742000\n",
      "Loss: 0.646373, Train accuracy: 0.912667, val accuracy: 0.737000\n",
      "Loss: 0.906220, Train accuracy: 0.829111, val accuracy: 0.690000\n",
      "Loss: 0.561333, Train accuracy: 0.903222, val accuracy: 0.716000\n",
      "Loss: 0.849866, Train accuracy: 0.861778, val accuracy: 0.694000\n",
      "Loss: 0.477440, Train accuracy: 0.946778, val accuracy: 0.749000\n",
      "Loss: 2.288634, Train accuracy: 0.700444, val accuracy: 0.596000\n",
      "Loss: 0.517280, Train accuracy: 0.951778, val accuracy: 0.752000\n",
      "Loss: 0.677876, Train accuracy: 0.858556, val accuracy: 0.715000\n",
      "Loss: 0.545059, Train accuracy: 0.946333, val accuracy: 0.762000\n",
      "Loss: 0.446099, Train accuracy: 0.957778, val accuracy: 0.771000\n",
      "Loss: 0.819349, Train accuracy: 0.747333, val accuracy: 0.613000\n",
      "Loss: 0.628452, Train accuracy: 0.924000, val accuracy: 0.735000\n",
      "Loss: 0.480149, Train accuracy: 0.962000, val accuracy: 0.764000\n",
      "Loss: 1.249957, Train accuracy: 0.728889, val accuracy: 0.603000\n",
      "Loss: 0.428188, Train accuracy: 0.944111, val accuracy: 0.739000\n",
      "Loss: 0.495127, Train accuracy: 0.948444, val accuracy: 0.750000\n",
      "Loss: 0.490904, Train accuracy: 0.929222, val accuracy: 0.741000\n",
      "Loss: 0.444341, Train accuracy: 0.965889, val accuracy: 0.762000\n",
      "Loss: 0.531380, Train accuracy: 0.929000, val accuracy: 0.754000\n",
      "Loss: 0.662221, Train accuracy: 0.925667, val accuracy: 0.748000\n",
      "Loss: 0.823787, Train accuracy: 0.789667, val accuracy: 0.652000\n",
      "Loss: 0.562168, Train accuracy: 0.934000, val accuracy: 0.736000\n",
      "Loss: 0.505991, Train accuracy: 0.894222, val accuracy: 0.722000\n",
      "0.5 0.0001 0.8 0.722\n",
      "Loss: 1.681869, Train accuracy: 0.329667, val accuracy: 0.327000\n",
      "Loss: 2.146473, Train accuracy: 0.363111, val accuracy: 0.381000\n",
      "Loss: 1.577088, Train accuracy: 0.592889, val accuracy: 0.583000\n",
      "Loss: 0.953740, Train accuracy: 0.642111, val accuracy: 0.644000\n",
      "Loss: 1.260923, Train accuracy: 0.597889, val accuracy: 0.581000\n",
      "Loss: 1.000236, Train accuracy: 0.599667, val accuracy: 0.587000\n",
      "Loss: 1.369287, Train accuracy: 0.614444, val accuracy: 0.574000\n",
      "Loss: 1.145630, Train accuracy: 0.606667, val accuracy: 0.572000\n",
      "Loss: 1.125276, Train accuracy: 0.724444, val accuracy: 0.676000\n",
      "Loss: 1.314943, Train accuracy: 0.625111, val accuracy: 0.600000\n",
      "Loss: 0.870526, Train accuracy: 0.727889, val accuracy: 0.668000\n",
      "Loss: 0.938206, Train accuracy: 0.781778, val accuracy: 0.680000\n",
      "Loss: 1.485140, Train accuracy: 0.688222, val accuracy: 0.632000\n",
      "Loss: 0.615092, Train accuracy: 0.797000, val accuracy: 0.702000\n",
      "Loss: 1.013448, Train accuracy: 0.724889, val accuracy: 0.648000\n",
      "Loss: 0.930361, Train accuracy: 0.750556, val accuracy: 0.667000\n",
      "Loss: 0.855822, Train accuracy: 0.766000, val accuracy: 0.686000\n",
      "Loss: 0.794118, Train accuracy: 0.760667, val accuracy: 0.655000\n",
      "Loss: 0.679329, Train accuracy: 0.823333, val accuracy: 0.701000\n",
      "Loss: 1.432208, Train accuracy: 0.731667, val accuracy: 0.655000\n",
      "Loss: 1.711818, Train accuracy: 0.738889, val accuracy: 0.649000\n",
      "Loss: 0.603042, Train accuracy: 0.848000, val accuracy: 0.702000\n",
      "Loss: 0.794440, Train accuracy: 0.749778, val accuracy: 0.655000\n",
      "Loss: 0.577788, Train accuracy: 0.851556, val accuracy: 0.713000\n",
      "Loss: 0.680336, Train accuracy: 0.853889, val accuracy: 0.719000\n",
      "Loss: 0.565336, Train accuracy: 0.875111, val accuracy: 0.739000\n",
      "Loss: 0.685936, Train accuracy: 0.775333, val accuracy: 0.646000\n",
      "Loss: 0.622958, Train accuracy: 0.845889, val accuracy: 0.718000\n",
      "Loss: 1.223762, Train accuracy: 0.718000, val accuracy: 0.614000\n",
      "Loss: 0.712613, Train accuracy: 0.883111, val accuracy: 0.737000\n",
      "Loss: 0.678993, Train accuracy: 0.867444, val accuracy: 0.725000\n",
      "Loss: 0.557706, Train accuracy: 0.892444, val accuracy: 0.729000\n",
      "Loss: 0.395316, Train accuracy: 0.881667, val accuracy: 0.717000\n",
      "Loss: 0.561739, Train accuracy: 0.789333, val accuracy: 0.667000\n",
      "Loss: 0.679101, Train accuracy: 0.820778, val accuracy: 0.699000\n",
      "Loss: 1.250396, Train accuracy: 0.768444, val accuracy: 0.640000\n",
      "Loss: 0.680590, Train accuracy: 0.868889, val accuracy: 0.696000\n",
      "Loss: 0.904318, Train accuracy: 0.847000, val accuracy: 0.701000\n",
      "Loss: 3.918541, Train accuracy: 0.643222, val accuracy: 0.540000\n",
      "Loss: 0.827744, Train accuracy: 0.845222, val accuracy: 0.691000\n",
      "Loss: 0.486237, Train accuracy: 0.902111, val accuracy: 0.746000\n",
      "Loss: 0.848546, Train accuracy: 0.768889, val accuracy: 0.637000\n",
      "Loss: 0.621387, Train accuracy: 0.887444, val accuracy: 0.734000\n",
      "Loss: 0.856529, Train accuracy: 0.852333, val accuracy: 0.699000\n",
      "Loss: 0.474639, Train accuracy: 0.818889, val accuracy: 0.687000\n",
      "Loss: 0.570178, Train accuracy: 0.878333, val accuracy: 0.711000\n",
      "Loss: 0.595366, Train accuracy: 0.893778, val accuracy: 0.721000\n",
      "Loss: 0.498659, Train accuracy: 0.893111, val accuracy: 0.721000\n",
      "Loss: 1.677336, Train accuracy: 0.686111, val accuracy: 0.608000\n",
      "Loss: 0.393209, Train accuracy: 0.900778, val accuracy: 0.733000\n",
      "Loss: 0.565117, Train accuracy: 0.924000, val accuracy: 0.751000\n",
      "Loss: 1.249276, Train accuracy: 0.843333, val accuracy: 0.691000\n",
      "Loss: 0.794881, Train accuracy: 0.842889, val accuracy: 0.690000\n"
     ]
    },
    {
     "name": "stdout",
     "output_type": "stream",
     "text": [
      "Loss: 0.779204, Train accuracy: 0.831889, val accuracy: 0.702000\n",
      "Loss: 0.753147, Train accuracy: 0.847444, val accuracy: 0.699000\n",
      "Loss: 0.430802, Train accuracy: 0.866556, val accuracy: 0.692000\n",
      "Loss: 0.527979, Train accuracy: 0.881000, val accuracy: 0.710000\n",
      "Loss: 0.440435, Train accuracy: 0.910333, val accuracy: 0.722000\n",
      "Loss: 1.267381, Train accuracy: 0.700778, val accuracy: 0.599000\n",
      "Loss: 0.480001, Train accuracy: 0.912778, val accuracy: 0.731000\n",
      "Loss: 0.817574, Train accuracy: 0.864222, val accuracy: 0.699000\n",
      "Loss: 0.406651, Train accuracy: 0.912444, val accuracy: 0.736000\n",
      "Loss: 0.602086, Train accuracy: 0.892889, val accuracy: 0.716000\n",
      "Loss: 0.418264, Train accuracy: 0.931111, val accuracy: 0.755000\n",
      "Loss: 0.547932, Train accuracy: 0.924222, val accuracy: 0.732000\n",
      "Loss: 1.226439, Train accuracy: 0.797444, val accuracy: 0.668000\n",
      "Loss: 0.811141, Train accuracy: 0.874778, val accuracy: 0.726000\n",
      "Loss: 0.902697, Train accuracy: 0.906444, val accuracy: 0.732000\n",
      "Loss: 0.942393, Train accuracy: 0.807000, val accuracy: 0.667000\n",
      "Loss: 0.477150, Train accuracy: 0.929556, val accuracy: 0.742000\n",
      "Loss: 0.747204, Train accuracy: 0.833444, val accuracy: 0.690000\n",
      "Loss: 0.423365, Train accuracy: 0.945111, val accuracy: 0.757000\n",
      "Loss: 6.235184, Train accuracy: 0.623333, val accuracy: 0.536000\n",
      "Loss: 0.406688, Train accuracy: 0.925333, val accuracy: 0.755000\n",
      "Loss: 0.542558, Train accuracy: 0.921000, val accuracy: 0.737000\n",
      "Loss: 0.546225, Train accuracy: 0.926444, val accuracy: 0.723000\n",
      "Loss: 0.715961, Train accuracy: 0.848000, val accuracy: 0.682000\n",
      "Loss: 0.573227, Train accuracy: 0.935333, val accuracy: 0.746000\n",
      "Loss: 0.742179, Train accuracy: 0.812778, val accuracy: 0.670000\n",
      "Loss: 0.580331, Train accuracy: 0.908556, val accuracy: 0.711000\n",
      "Loss: 0.471111, Train accuracy: 0.937556, val accuracy: 0.725000\n",
      "Loss: 0.570286, Train accuracy: 0.856556, val accuracy: 0.692000\n",
      "Loss: 0.422557, Train accuracy: 0.947222, val accuracy: 0.744000\n",
      "Loss: 0.693985, Train accuracy: 0.899444, val accuracy: 0.723000\n",
      "Loss: 0.625247, Train accuracy: 0.901778, val accuracy: 0.720000\n",
      "Loss: 0.501485, Train accuracy: 0.951556, val accuracy: 0.746000\n",
      "Loss: 0.674723, Train accuracy: 0.870222, val accuracy: 0.692000\n",
      "Loss: 0.474987, Train accuracy: 0.952222, val accuracy: 0.745000\n",
      "Loss: 0.651551, Train accuracy: 0.913889, val accuracy: 0.721000\n",
      "Loss: 0.508301, Train accuracy: 0.916111, val accuracy: 0.711000\n",
      "Loss: 1.845972, Train accuracy: 0.746556, val accuracy: 0.603000\n",
      "Loss: 0.460809, Train accuracy: 0.953222, val accuracy: 0.765000\n",
      "Loss: 0.744422, Train accuracy: 0.904889, val accuracy: 0.724000\n",
      "Loss: 0.687230, Train accuracy: 0.867333, val accuracy: 0.680000\n",
      "Loss: 0.389477, Train accuracy: 0.957444, val accuracy: 0.745000\n",
      "Loss: 0.832786, Train accuracy: 0.878111, val accuracy: 0.701000\n",
      "Loss: 1.097564, Train accuracy: 0.781111, val accuracy: 0.636000\n",
      "Loss: 0.383388, Train accuracy: 0.928000, val accuracy: 0.762000\n",
      "Loss: 0.505062, Train accuracy: 0.930000, val accuracy: 0.737000\n",
      "Loss: 0.531470, Train accuracy: 0.925222, val accuracy: 0.741000\n",
      "Loss: 1.245724, Train accuracy: 0.773000, val accuracy: 0.648000\n",
      "Loss: 0.834737, Train accuracy: 0.837333, val accuracy: 0.677000\n",
      "Loss: 0.651500, Train accuracy: 0.882889, val accuracy: 0.705000\n",
      "Loss: 1.110545, Train accuracy: 0.783333, val accuracy: 0.642000\n",
      "Loss: 0.407264, Train accuracy: 0.930556, val accuracy: 0.735000\n",
      "Loss: 4.636023, Train accuracy: 0.685111, val accuracy: 0.566000\n",
      "Loss: 0.502142, Train accuracy: 0.926111, val accuracy: 0.714000\n",
      "Loss: 0.385909, Train accuracy: 0.919444, val accuracy: 0.735000\n",
      "Loss: 0.546193, Train accuracy: 0.923667, val accuracy: 0.739000\n",
      "Loss: 0.359585, Train accuracy: 0.965889, val accuracy: 0.752000\n",
      "Loss: 0.551608, Train accuracy: 0.887333, val accuracy: 0.706000\n",
      "Loss: 4.442067, Train accuracy: 0.502444, val accuracy: 0.445000\n",
      "Loss: 0.370488, Train accuracy: 0.961889, val accuracy: 0.756000\n",
      "Loss: 0.873221, Train accuracy: 0.895667, val accuracy: 0.726000\n",
      "Loss: 0.498570, Train accuracy: 0.963889, val accuracy: 0.752000\n",
      "Loss: 0.584725, Train accuracy: 0.905778, val accuracy: 0.711000\n",
      "Loss: 0.453506, Train accuracy: 0.953333, val accuracy: 0.748000\n",
      "Loss: 0.429087, Train accuracy: 0.921111, val accuracy: 0.716000\n",
      "Loss: 0.529096, Train accuracy: 0.874444, val accuracy: 0.698000\n",
      "Loss: 0.633539, Train accuracy: 0.905889, val accuracy: 0.738000\n",
      "Loss: 0.416931, Train accuracy: 0.862444, val accuracy: 0.698000\n",
      "Loss: 0.446274, Train accuracy: 0.929111, val accuracy: 0.737000\n",
      "Loss: 0.612855, Train accuracy: 0.922556, val accuracy: 0.729000\n",
      "Loss: 0.605769, Train accuracy: 0.948889, val accuracy: 0.751000\n",
      "Loss: 0.742155, Train accuracy: 0.788222, val accuracy: 0.638000\n",
      "Loss: 1.421460, Train accuracy: 0.710667, val accuracy: 0.597000\n",
      "Loss: 0.444417, Train accuracy: 0.960778, val accuracy: 0.748000\n",
      "Loss: 0.589606, Train accuracy: 0.944333, val accuracy: 0.737000\n",
      "Loss: 0.429822, Train accuracy: 0.921000, val accuracy: 0.723000\n",
      "Loss: 0.663651, Train accuracy: 0.886333, val accuracy: 0.709000\n",
      "Loss: 0.381084, Train accuracy: 0.946778, val accuracy: 0.746000\n",
      "Loss: 0.705869, Train accuracy: 0.857444, val accuracy: 0.706000\n",
      "Loss: 0.619187, Train accuracy: 0.931444, val accuracy: 0.731000\n",
      "Loss: 0.419547, Train accuracy: 0.866889, val accuracy: 0.700000\n",
      "Loss: 0.492130, Train accuracy: 0.941444, val accuracy: 0.749000\n",
      "Loss: 3.508039, Train accuracy: 0.593333, val accuracy: 0.523000\n",
      "Loss: 0.623900, Train accuracy: 0.937889, val accuracy: 0.741000\n",
      "Loss: 0.552558, Train accuracy: 0.946333, val accuracy: 0.737000\n",
      "Loss: 5.201278, Train accuracy: 0.402444, val accuracy: 0.393000\n",
      "Loss: 0.532447, Train accuracy: 0.934889, val accuracy: 0.742000\n",
      "Loss: 0.710036, Train accuracy: 0.944333, val accuracy: 0.731000\n",
      "Loss: 0.529156, Train accuracy: 0.872333, val accuracy: 0.695000\n",
      "Loss: 0.518257, Train accuracy: 0.954111, val accuracy: 0.760000\n",
      "Loss: 0.412814, Train accuracy: 0.969889, val accuracy: 0.756000\n",
      "Loss: 0.661602, Train accuracy: 0.868444, val accuracy: 0.686000\n",
      "Loss: 0.519268, Train accuracy: 0.941111, val accuracy: 0.735000\n",
      "Loss: 0.405504, Train accuracy: 0.958556, val accuracy: 0.767000\n",
      "Loss: 0.511867, Train accuracy: 0.902000, val accuracy: 0.720000\n",
      "Loss: 0.958073, Train accuracy: 0.877444, val accuracy: 0.712000\n",
      "Loss: 0.966884, Train accuracy: 0.858444, val accuracy: 0.700000\n",
      "Loss: 0.405856, Train accuracy: 0.973111, val accuracy: 0.771000\n",
      "Loss: 1.864148, Train accuracy: 0.688444, val accuracy: 0.571000\n",
      "Loss: 0.498114, Train accuracy: 0.930889, val accuracy: 0.719000\n",
      "Loss: 0.462999, Train accuracy: 0.969778, val accuracy: 0.760000\n",
      "Loss: 0.543686, Train accuracy: 0.946889, val accuracy: 0.731000\n",
      "Loss: 0.460871, Train accuracy: 0.956333, val accuracy: 0.750000\n",
      "Loss: 0.503681, Train accuracy: 0.908889, val accuracy: 0.718000\n",
      "Loss: 0.581918, Train accuracy: 0.952778, val accuracy: 0.745000\n",
      "Loss: 0.521542, Train accuracy: 0.921000, val accuracy: 0.718000\n",
      "Loss: 0.804134, Train accuracy: 0.850222, val accuracy: 0.681000\n",
      "Loss: 0.830591, Train accuracy: 0.892889, val accuracy: 0.701000\n",
      "Loss: 3.138686, Train accuracy: 0.743667, val accuracy: 0.629000\n",
      "Loss: 0.556882, Train accuracy: 0.936667, val accuracy: 0.738000\n",
      "Loss: 0.389025, Train accuracy: 0.964556, val accuracy: 0.754000\n",
      "Loss: 0.715100, Train accuracy: 0.842333, val accuracy: 0.697000\n",
      "Loss: 0.870919, Train accuracy: 0.810222, val accuracy: 0.640000\n",
      "Loss: 0.373536, Train accuracy: 0.964556, val accuracy: 0.750000\n",
      "Loss: 0.489158, Train accuracy: 0.930667, val accuracy: 0.732000\n",
      "Loss: 0.641920, Train accuracy: 0.913556, val accuracy: 0.718000\n",
      "Loss: 0.483911, Train accuracy: 0.924000, val accuracy: 0.730000\n",
      "Loss: 0.646658, Train accuracy: 0.885000, val accuracy: 0.700000\n",
      "Loss: 0.604731, Train accuracy: 0.940333, val accuracy: 0.737000\n",
      "Loss: 0.484089, Train accuracy: 0.954333, val accuracy: 0.736000\n",
      "Loss: 0.399586, Train accuracy: 0.969000, val accuracy: 0.752000\n",
      "Loss: 0.540545, Train accuracy: 0.920778, val accuracy: 0.722000\n",
      "Loss: 0.456562, Train accuracy: 0.945889, val accuracy: 0.757000\n",
      "Loss: 0.585689, Train accuracy: 0.924778, val accuracy: 0.724000\n",
      "Loss: 0.393032, Train accuracy: 0.963222, val accuracy: 0.751000\n",
      "Loss: 0.433038, Train accuracy: 0.946889, val accuracy: 0.733000\n",
      "Loss: 0.387445, Train accuracy: 0.966333, val accuracy: 0.767000\n"
     ]
    },
    {
     "name": "stdout",
     "output_type": "stream",
     "text": [
      "Loss: 0.728718, Train accuracy: 0.870222, val accuracy: 0.680000\n",
      "Loss: 0.623356, Train accuracy: 0.897778, val accuracy: 0.703000\n",
      "Loss: 0.452421, Train accuracy: 0.941222, val accuracy: 0.745000\n",
      "Loss: 0.458801, Train accuracy: 0.958000, val accuracy: 0.747000\n",
      "Loss: 0.531434, Train accuracy: 0.935333, val accuracy: 0.748000\n",
      "Loss: 0.494627, Train accuracy: 0.865333, val accuracy: 0.677000\n",
      "Loss: 1.754650, Train accuracy: 0.690222, val accuracy: 0.575000\n",
      "Loss: 1.825477, Train accuracy: 0.665889, val accuracy: 0.564000\n",
      "Loss: 0.634615, Train accuracy: 0.822222, val accuracy: 0.662000\n",
      "Loss: 0.335931, Train accuracy: 0.950556, val accuracy: 0.740000\n",
      "Loss: 0.498585, Train accuracy: 0.951667, val accuracy: 0.746000\n",
      "Loss: 1.064778, Train accuracy: 0.829889, val accuracy: 0.672000\n",
      "Loss: 0.480495, Train accuracy: 0.918778, val accuracy: 0.721000\n"
     ]
    },
    {
     "ename": "KeyboardInterrupt",
     "evalue": "",
     "output_type": "error",
     "traceback": [
      "\u001b[0;31m---------------------------------------------------------------------------\u001b[0m",
      "\u001b[0;31mKeyboardInterrupt\u001b[0m                         Traceback (most recent call last)",
      "\u001b[0;32m<ipython-input-75-d1bef2da3159>\u001b[0m in \u001b[0;36m<module>\u001b[0;34m()\u001b[0m\n\u001b[1;32m     27\u001b[0m             \u001b[0mtrainer\u001b[0m \u001b[0;34m=\u001b[0m \u001b[0mTrainer\u001b[0m\u001b[0;34m(\u001b[0m\u001b[0mmodel\u001b[0m\u001b[0;34m,\u001b[0m \u001b[0mdataset\u001b[0m\u001b[0;34m,\u001b[0m \u001b[0mSGD\u001b[0m\u001b[0;34m(\u001b[0m\u001b[0;34m)\u001b[0m\u001b[0;34m,\u001b[0m \u001b[0mlearning_rate\u001b[0m\u001b[0;34m=\u001b[0m\u001b[0mlr\u001b[0m\u001b[0;34m,\u001b[0m \u001b[0mnum_epochs\u001b[0m\u001b[0;34m=\u001b[0m\u001b[0mnum_epochs\u001b[0m\u001b[0;34m,\u001b[0m \u001b[0mbatch_size\u001b[0m\u001b[0;34m=\u001b[0m\u001b[0mbatch_size\u001b[0m\u001b[0;34m)\u001b[0m\u001b[0;34m\u001b[0m\u001b[0m\n\u001b[1;32m     28\u001b[0m \u001b[0;34m\u001b[0m\u001b[0m\n\u001b[0;32m---> 29\u001b[0;31m             \u001b[0mloss_history\u001b[0m\u001b[0;34m,\u001b[0m \u001b[0mtrain_history\u001b[0m\u001b[0;34m,\u001b[0m \u001b[0mval_history\u001b[0m \u001b[0;34m=\u001b[0m \u001b[0mtrainer\u001b[0m\u001b[0;34m.\u001b[0m\u001b[0mfit\u001b[0m\u001b[0;34m(\u001b[0m\u001b[0;34m)\u001b[0m\u001b[0;34m\u001b[0m\u001b[0m\n\u001b[0m\u001b[1;32m     30\u001b[0m             \u001b[0;32mif\u001b[0m \u001b[0mval_history\u001b[0m\u001b[0;34m[\u001b[0m\u001b[0;34m-\u001b[0m\u001b[0;36m1\u001b[0m\u001b[0;34m]\u001b[0m \u001b[0;34m>\u001b[0m \u001b[0mbest_val_accuracy\u001b[0m\u001b[0;34m:\u001b[0m\u001b[0;34m\u001b[0m\u001b[0m\n\u001b[1;32m     31\u001b[0m                 \u001b[0mbest_val_accuracy\u001b[0m \u001b[0;34m=\u001b[0m \u001b[0mval_history\u001b[0m\u001b[0;34m[\u001b[0m\u001b[0;34m-\u001b[0m\u001b[0;36m1\u001b[0m\u001b[0;34m]\u001b[0m\u001b[0;34m\u001b[0m\u001b[0m\n",
      "\u001b[0;32m/notebooks/dl_course/assignments/assignment2/trainer.py\u001b[0m in \u001b[0;36mfit\u001b[0;34m(self)\u001b[0m\n\u001b[1;32m    100\u001b[0m                 \u001b[0;31m# use model to generate loss and gradients for all\u001b[0m\u001b[0;34m\u001b[0m\u001b[0;34m\u001b[0m\u001b[0m\n\u001b[1;32m    101\u001b[0m                 \u001b[0;31m# the params\u001b[0m\u001b[0;34m\u001b[0m\u001b[0;34m\u001b[0m\u001b[0m\n\u001b[0;32m--> 102\u001b[0;31m                 \u001b[0mloss\u001b[0m \u001b[0;34m=\u001b[0m \u001b[0mself\u001b[0m\u001b[0;34m.\u001b[0m\u001b[0mmodel\u001b[0m\u001b[0;34m.\u001b[0m\u001b[0mcompute_loss_and_gradients\u001b[0m\u001b[0;34m(\u001b[0m\u001b[0mself\u001b[0m\u001b[0;34m.\u001b[0m\u001b[0mdataset\u001b[0m\u001b[0;34m.\u001b[0m\u001b[0mtrain_X\u001b[0m\u001b[0;34m[\u001b[0m\u001b[0mbatch_indices\u001b[0m\u001b[0;34m]\u001b[0m\u001b[0;34m,\u001b[0m \u001b[0mself\u001b[0m\u001b[0;34m.\u001b[0m\u001b[0mdataset\u001b[0m\u001b[0;34m.\u001b[0m\u001b[0mtrain_y\u001b[0m\u001b[0;34m[\u001b[0m\u001b[0mbatch_indices\u001b[0m\u001b[0;34m]\u001b[0m\u001b[0;34m)\u001b[0m\u001b[0;34m\u001b[0m\u001b[0m\n\u001b[0m\u001b[1;32m    103\u001b[0m \u001b[0;34m\u001b[0m\u001b[0m\n\u001b[1;32m    104\u001b[0m                 \u001b[0;32mfor\u001b[0m \u001b[0mparam_name\u001b[0m\u001b[0;34m,\u001b[0m \u001b[0mparam\u001b[0m \u001b[0;32min\u001b[0m \u001b[0mself\u001b[0m\u001b[0;34m.\u001b[0m\u001b[0mmodel\u001b[0m\u001b[0;34m.\u001b[0m\u001b[0mparams\u001b[0m\u001b[0;34m(\u001b[0m\u001b[0;34m)\u001b[0m\u001b[0;34m.\u001b[0m\u001b[0mitems\u001b[0m\u001b[0;34m(\u001b[0m\u001b[0;34m)\u001b[0m\u001b[0;34m:\u001b[0m\u001b[0;34m\u001b[0m\u001b[0m\n",
      "\u001b[0;32m/notebooks/dl_course/assignments/assignment2/model.py\u001b[0m in \u001b[0;36mcompute_loss_and_gradients\u001b[0;34m(self, X, y)\u001b[0m\n\u001b[1;32m     54\u001b[0m         \u001b[0mbout\u001b[0m \u001b[0;34m=\u001b[0m \u001b[0mself\u001b[0m\u001b[0;34m.\u001b[0m\u001b[0ml2\u001b[0m\u001b[0;34m.\u001b[0m\u001b[0mbackward\u001b[0m\u001b[0;34m(\u001b[0m\u001b[0md_out\u001b[0m\u001b[0;34m)\u001b[0m\u001b[0;34m\u001b[0m\u001b[0m\n\u001b[1;32m     55\u001b[0m         \u001b[0mbout\u001b[0m \u001b[0;34m=\u001b[0m \u001b[0mself\u001b[0m\u001b[0;34m.\u001b[0m\u001b[0mrelu\u001b[0m\u001b[0;34m.\u001b[0m\u001b[0mbackward\u001b[0m\u001b[0;34m(\u001b[0m\u001b[0mbout\u001b[0m\u001b[0;34m)\u001b[0m\u001b[0;34m\u001b[0m\u001b[0m\n\u001b[0;32m---> 56\u001b[0;31m         \u001b[0mself\u001b[0m\u001b[0;34m.\u001b[0m\u001b[0ml1\u001b[0m\u001b[0;34m.\u001b[0m\u001b[0mbackward\u001b[0m\u001b[0;34m(\u001b[0m\u001b[0mbout\u001b[0m\u001b[0;34m)\u001b[0m\u001b[0;34m\u001b[0m\u001b[0m\n\u001b[0m\u001b[1;32m     57\u001b[0m \u001b[0;34m\u001b[0m\u001b[0m\n\u001b[1;32m     58\u001b[0m         \u001b[0;31m# After that, implement l2 regularization on all params\u001b[0m\u001b[0;34m\u001b[0m\u001b[0;34m\u001b[0m\u001b[0m\n",
      "\u001b[0;32m/notebooks/dl_course/assignments/assignment2/layers.py\u001b[0m in \u001b[0;36mbackward\u001b[0;34m(self, d_out)\u001b[0m\n\u001b[1;32m    187\u001b[0m         \u001b[0mself\u001b[0m\u001b[0;34m.\u001b[0m\u001b[0mW\u001b[0m\u001b[0;34m.\u001b[0m\u001b[0mgrad\u001b[0m \u001b[0;34m+=\u001b[0m \u001b[0md_w\u001b[0m\u001b[0;34m\u001b[0m\u001b[0m\n\u001b[1;32m    188\u001b[0m         \u001b[0mself\u001b[0m\u001b[0;34m.\u001b[0m\u001b[0mB\u001b[0m\u001b[0;34m.\u001b[0m\u001b[0mgrad\u001b[0m \u001b[0;34m+=\u001b[0m \u001b[0md_b\u001b[0m\u001b[0;34m\u001b[0m\u001b[0m\n\u001b[0;32m--> 189\u001b[0;31m         \u001b[0md_X\u001b[0m \u001b[0;34m=\u001b[0m \u001b[0mnp\u001b[0m\u001b[0;34m.\u001b[0m\u001b[0mdot\u001b[0m\u001b[0;34m(\u001b[0m\u001b[0md_out\u001b[0m\u001b[0;34m,\u001b[0m \u001b[0mself\u001b[0m\u001b[0;34m.\u001b[0m\u001b[0mW\u001b[0m\u001b[0;34m.\u001b[0m\u001b[0mvalue\u001b[0m\u001b[0;34m.\u001b[0m\u001b[0mT\u001b[0m\u001b[0;34m)\u001b[0m\u001b[0;34m\u001b[0m\u001b[0m\n\u001b[0m\u001b[1;32m    190\u001b[0m         \u001b[0;32mreturn\u001b[0m \u001b[0md_X\u001b[0m\u001b[0;34m\u001b[0m\u001b[0m\n\u001b[1;32m    191\u001b[0m \u001b[0;34m\u001b[0m\u001b[0m\n",
      "\u001b[0;31mKeyboardInterrupt\u001b[0m: "
     ]
    }
   ],
   "source": [
    "# Let's train the best one-hidden-layer network we can\n",
    "\n",
    "learning_rates = [5e-1]#[5e-2, 1e-2, 5e-3, 2e-3]\n",
    "reg_strength = [1e-4]#,1e-4, 1e-5]\n",
    "learning_rate_decay = 0.997\n",
    "hidden_layer_size = 128\n",
    "num_epochs = 200\n",
    "batch_size = 64\n",
    "momentum = [0.8]#,0.85,0.9,0.95]\n",
    "\n",
    "best_classifier = None\n",
    "best_val_accuracy = 0.0\n",
    "\n",
    "loss_history = []\n",
    "train_history = []\n",
    "val_history = []\n",
    "\n",
    "# TODO find the best hyperparameters to train the network\n",
    "# Don't hesitate to add new values to the arrays above, perform experiments, use any tricks you want\n",
    "# You should expect to get to at least 40% of valudation accuracy\n",
    "# Save loss/train/history of the best classifier to the variables above\n",
    "for lr in learning_rates:\n",
    "    for reg in reg_strength:\n",
    "        for mom in momentum:\n",
    "            model = TwoLayerNet(n_input = train_X.shape[1], n_output = 10, hidden_layer_size = hidden_layer_size, reg = reg)\n",
    "            dataset = Dataset(train_X, train_y, val_X, val_y)\n",
    "            trainer = Trainer(model, dataset, SGD(), learning_rate=lr, num_epochs=num_epochs, batch_size=batch_size)\n",
    "\n",
    "            loss_history, train_history, val_history = trainer.fit()\n",
    "            if val_history[-1] > best_val_accuracy:\n",
    "                best_val_accuracy = val_history[-1]\n",
    "                best_classifier = model\n",
    "                print(lr, reg, mom, best_val_accuracy)\n",
    "    \n",
    "\n",
    "print('best validation accuracy achieved: %f' % best_val_accuracy)"
   ]
  },
  {
   "cell_type": "code",
   "execution_count": 70,
   "metadata": {},
   "outputs": [
    {
     "data": {
      "text/plain": [
       "[<matplotlib.lines.Line2D at 0x7f11ae414e80>]"
      ]
     },
     "execution_count": 70,
     "metadata": {},
     "output_type": "execute_result"
    },
    {
     "data": {
      "image/png": "[encoded data removed]",
      "text/plain": [
       "<Figure size 1080x504 with 2 Axes>"
      ]
     },
     "metadata": {},
     "output_type": "display_data"
    }
   ],
   "source": [
    "plt.figure(figsize=(15, 7))\n",
    "plt.subplot(211)\n",
    "plt.title(\"Loss\")\n",
    "plt.plot(loss_history)\n",
    "plt.subplot(212)\n",
    "plt.title(\"Train/validation accuracy\")\n",
    "plt.plot(train_history)\n",
    "plt.plot(val_history)"
   ]
  },
  {
   "cell_type": "markdown",
   "metadata": {},
   "source": [
    "# Как обычно, посмотрим, как наша лучшая модель работает на тестовых данных"
   ]
  },
  {
   "cell_type": "code",
   "execution_count": 71,
   "metadata": {},
   "outputs": [
    {
     "name": "stdout",
     "output_type": "stream",
     "text": [
      "Neural net test set accuracy: 0.146000\n"
     ]
    }
   ],
   "source": [
    "test_pred = best_classifier.predict(test_X)\n",
    "test_accuracy = multiclass_accuracy(test_pred, test_y)\n",
    "print('Neural net test set accuracy: %f' % (test_accuracy, ))"
   ]
  },
  {
   "cell_type": "code",
   "execution_count": null,
   "metadata": {},
   "outputs": [],
   "source": []
  }
 ],
 "metadata": {
  "kernelspec": {
   "display_name": "Python 3",
   "language": "python",
   "name": "python3"
  },
  "language_info": {
   "codemirror_mode": {
    "name": "ipython",
    "version": 3
   },
   "file_extension": ".py",
   "mimetype": "text/x-python",
   "name": "python",
   "nbconvert_exporter": "python",
   "pygments_lexer": "ipython3",
   "version": "3.6.6"
  }
 },
 "nbformat": 4,
 "nbformat_minor": 2
}
